{
 "cells": [
  {
   "cell_type": "code",
   "execution_count": 10,
   "id": "bccb54e8",
   "metadata": {},
   "outputs": [],
   "source": [
    "def addTwoNumbers(l1, l2):\n",
    "        \n",
    "    num1 = ''\n",
    "    num2 = ''\n",
    "\n",
    "    while len(l1) and len(l2) > 0:\n",
    "\n",
    "        num1 += str(l1.pop())\n",
    "        num2 += str(l2.pop())\n",
    "\n",
    "    return int(num1) + int(num2)"
   ]
  },
  {
   "cell_type": "code",
   "execution_count": 11,
   "id": "99b8e68e",
   "metadata": {},
   "outputs": [],
   "source": [
    "l1 = [2,4,3]\n",
    "l2 = [5,6,4]"
   ]
  },
  {
   "cell_type": "code",
   "execution_count": 12,
   "id": "233b9bb7",
   "metadata": {},
   "outputs": [
    {
     "data": {
      "text/plain": [
       "807"
      ]
     },
     "execution_count": 12,
     "metadata": {},
     "output_type": "execute_result"
    }
   ],
   "source": [
    "addTwoNumbers(l1, l2)"
   ]
  },
  {
   "cell_type": "markdown",
   "id": "c08112f5",
   "metadata": {},
   "source": []
  }
 ],
 "metadata": {
  "kernelspec": {
   "display_name": "paperenv",
   "language": "python",
   "name": "simon"
  },
  "language_info": {
   "codemirror_mode": {
    "name": "ipython",
    "version": 3
   },
   "file_extension": ".py",
   "mimetype": "text/x-python",
   "name": "python",
   "nbconvert_exporter": "python",
   "pygments_lexer": "ipython3",
   "version": "3.13.5"
  }
 },
 "nbformat": 4,
 "nbformat_minor": 5
}
