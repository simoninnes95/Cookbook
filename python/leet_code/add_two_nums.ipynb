{
 "cells": [
  {
   "cell_type": "code",
   "execution_count": 10,
   "id": "bccb54e8",
   "metadata": {},
   "outputs": [],
   "source": [
    "def addTwoNumbers(l1, l2):\n",
    "        \n",
    "    num1 = ''\n",
    "    num2 = ''\n",
    "\n",
    "    while len(l1) and len(l2) > 0:\n",
    "\n",
    "        num1 += str(l1.pop())\n",
    "        num2 += str(l2.pop())\n",
    "\n",
    "    return int(num1) + int(num2)"
   ]
  },
  {
   "cell_type": "code",
   "execution_count": 11,
   "id": "99b8e68e",
   "metadata": {},
   "outputs": [],
   "source": [
    "l1 = [2,4,3]\n",
    "l2 = [5,6,4]"
   ]
  },
  {
   "cell_type": "code",
   "execution_count": 12,
   "id": "233b9bb7",
   "metadata": {},
   "outputs": [
    {
     "data": {
      "text/plain": [
       "807"
      ]
     },
     "execution_count": 12,
     "metadata": {},
     "output_type": "execute_result"
    }
   ],
   "source": [
    "addTwoNumbers(l1, l2)"
   ]
  },
  {
   "cell_type": "code",
   "execution_count": null,
   "id": "1c30241a",
   "metadata": {},
   "outputs": [],
   "source": [
    "# Definition for singly-linked list.\n",
    "class ListNode:\n",
    "    def __init__(self, val=0, next=None):\n",
    "\n",
    "        self.val = val\n",
    "        self.next = next\n",
    "\n",
    "class Solution:\n",
    "    def addTwoNumbers(self, l1, l2):\n",
    "\n",
    "        dummy = ListNode()\n",
    "        current = dummy\n",
    "        carry = 0\n",
    "\n",
    "        while l1 or l2 or carry:\n",
    "\n",
    "            total = carry\n",
    "            if l1:\n",
    "                total += l1.val\n",
    "                l1 = l1.next\n",
    "            if l2:\n",
    "                total += l2.val # Is the initial value at the head of the list\n",
    "                l2 = l2.next # moves the curser to the next item\n",
    "            carry = total // 10\n",
    "            current.next = ListNode(total % 10)\n",
    "            current = current.next\n",
    "        return dummy.next"
   ]
  },
  {
   "cell_type": "code",
   "execution_count": null,
   "id": "6bdc9c4d",
   "metadata": {},
   "outputs": [],
   "source": [
    "# l1 = [2, 4, 3]\n",
    "# l2 = [5, 6, 4]\n",
    "\n",
    "# dummy = [0]\n",
    "# current = dummy = [0]\n",
    "# carry = 0 \n",
    "\n",
    "# ------- ITERATION 1 ------------\n",
    "\n",
    "# total = carry = 0\n",
    "\n",
    "# total 2 (from l1) + 5 (from l2) = 7\n",
    "\n",
    "# carry = 0 as 7 < 10\n",
    "\n",
    "# current = [0 -> 7 ]\n",
    "\n",
    "# ------- ITERATION 2 ------------\n",
    "\n",
    "# total = carry = 0\n",
    "\n",
    "# total 4 (from l1) + 6 (from l2) = 10\n",
    "\n",
    "# carry = 1 as 10 // 10 = 1\n",
    "\n",
    "# current = [0 -> 7 -> 0 ]\n",
    "\n",
    "# ------- ITERATION 3 ------------\n",
    "\n",
    "# total = carry = 1\n",
    "\n",
    "# total 3 (from l1) + 4 (from l2) = 7\n",
    "\n",
    "# carry = 1 as 10 // 10 = 1\n",
    "\n",
    "# current = [0 -> 7 -> 0 -> 8]\n",
    "\n"
   ]
  },
  {
   "cell_type": "code",
   "execution_count": 42,
   "id": "2a38ba62",
   "metadata": {},
   "outputs": [],
   "source": [
    "l1 = ListNode(2, ListNode(4, ListNode(3)))\n",
    "l2 = ListNode(5, ListNode(6, ListNode(4)))\n"
   ]
  },
  {
   "cell_type": "code",
   "execution_count": null,
   "id": "2fdc5017",
   "metadata": {},
   "outputs": [
    {
     "name": "stdout",
     "output_type": "stream",
     "text": [
      "<__main__.ListNode object at 0x1089eb3f0>\n"
     ]
    }
   ],
   "source": [
    "Solution().addTwoNumbers(l1, l2)\n",
    "print(result)"
   ]
  },
  {
   "cell_type": "code",
   "execution_count": 43,
   "id": "c6a5418d",
   "metadata": {},
   "outputs": [
    {
     "name": "stdout",
     "output_type": "stream",
     "text": [
      "7 -> 0 -> 8\n"
     ]
    }
   ],
   "source": [
    "# Helper function to print linked list\n",
    "def print_linked_list(node):\n",
    "    vals = []\n",
    "    while node:\n",
    "        vals.append(str(node.val))\n",
    "\n",
    "        node = node.next\n",
    "    print(' -> '.join(vals))\n",
    "\n",
    "result = Solution().addTwoNumbers(l1, l2)\n",
    "print_linked_list(result)"
   ]
  }
 ],
 "metadata": {
  "kernelspec": {
   "display_name": "paperenv",
   "language": "python",
   "name": "simon"
  },
  "language_info": {
   "codemirror_mode": {
    "name": "ipython",
    "version": 3
   },
   "file_extension": ".py",
   "mimetype": "text/x-python",
   "name": "python",
   "nbconvert_exporter": "python",
   "pygments_lexer": "ipython3",
   "version": "3.13.5"
  }
 },
 "nbformat": 4,
 "nbformat_minor": 5
}
