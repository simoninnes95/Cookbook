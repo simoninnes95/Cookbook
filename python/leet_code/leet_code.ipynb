{
 "cells": [
  {
   "cell_type": "markdown",
   "metadata": {},
   "source": [
    "### 1. Remove Element "
   ]
  },
  {
   "cell_type": "code",
   "execution_count": null,
   "metadata": {},
   "outputs": [],
   "source": [
    "class Solution():\n",
    "\n",
    "    def __init__(self, nums, val):\n",
    "        self.nums = nums\n",
    "        self.val = val\n",
    "\n",
    "    def removeElement(self):\n",
    "        \"\"\"\n",
    "        :type nums: List[int]\n",
    "        :type val: int\n",
    "        :rtype: int\n",
    "        \"\"\"\n",
    "        k = 0\n",
    "\n",
    "        for i in range(len(self.nums)):\n",
    "            if self.nums[i] != self.val:\n",
    "                self.nums[k] = self.nums[i]\n",
    "                k += 1\n",
    "\n",
    "        for j in range(len(self.nums)):\n",
    "            if j >= k:\n",
    "                self.nums[j] = \"_\"\n",
    "        \n",
    "        return  self.nums"
   ]
  },
  {
   "cell_type": "code",
   "execution_count": null,
   "metadata": {},
   "outputs": [],
   "source": [
    "nums = [0,1,2,2,3,0,4,2]\n",
    "val = 2\n",
    "\n",
    "object = Solution(nums,val)\n",
    "\n",
    "new_length = object.removeElement()\n",
    "\n",
    "\n"
   ]
  },
  {
   "cell_type": "code",
   "execution_count": null,
   "metadata": {},
   "outputs": [],
   "source": [
    "class Solution: \n",
    "    def removeElement(self, nums: List[int], val: int) -> int:\n",
    "        i = 0\n",
    "        for j in range(len(nums)):\n",
    "            if nums[j] != val:\n",
    "                nums[i], nums[j] = nums[j], nums[i]\n",
    "                i += 1\n",
    "        return i"
   ]
  },
  {
   "cell_type": "code",
   "execution_count": null,
   "metadata": {},
   "outputs": [],
   "source": [
    "class Solution(object):\n",
    "    def removeElement(self, nums, val):\n",
    "        k = 0\n",
    "        for j in range(len(nums)):\n",
    "            if nums[j] != val:\n",
    "                nums[k], nums[j] = nums[j], nums[k]\n",
    "                k += 1\n",
    "        return k"
   ]
  },
  {
   "cell_type": "markdown",
   "metadata": {},
   "source": [
    "### 2. Merge Sorted Array"
   ]
  },
  {
   "cell_type": "code",
   "execution_count": null,
   "metadata": {},
   "outputs": [],
   "source": [
    "# Bubble Sort\n",
    "for i in range(m+n):\n",
    "    # already_sorted = True\n",
    "    \n",
    "    for j in range (m+n - i - 1):\n",
    "        if listy[j] > listy[j+1]:\n",
    "            listy[j], listy[j+1] = listy[j+1], listy[j]"
   ]
  },
  {
   "cell_type": "code",
   "execution_count": null,
   "metadata": {},
   "outputs": [],
   "source": [
    "# Merge Sort\n",
    "array = [0, 2, 5, 7, 1, 8]\n",
    "\n",
    "def merge_sort(left, right):\n",
    "    \n",
    "    if len(left) == 0:\n",
    "        return right\n",
    "    \n",
    "    if len(right) == 0:\n",
    "        return left\n",
    "    \n",
    "    result = []\n",
    "    index_left = index_right = 0\n",
    "\n",
    "    while len(result) < len(left) + len(right):\n",
    "        if left[index_left] <= right[index_right]:\n",
    "            result.append(left[index_left])\n",
    "            index_left += 1\n",
    "        else:\n",
    "            result.append(right[index_right])\n",
    "            index_right += 1\n",
    "\n",
    "        if index_left == len(left):\n",
    "            result += right[index_right:]\n",
    "            break\n",
    "\n",
    "        if index_right == len(right):\n",
    "            result += left[index_left]\n",
    "            break\n",
    "        \n",
    "    return result\n",
    " \n",
    "def merge(array): \n",
    "\n",
    "    if len(array) < 2:\n",
    "        return array\n",
    "    \n",
    "    midpoint = len(array) // 2\n",
    "\n",
    "    return merge_sort(left=merge(array[:midpoint]), \n",
    "                      right=merge(array[midpoint:]))\n",
    "\n",
    "\n",
    "y = merge(array)\n",
    "print(y)"
   ]
  },
  {
   "cell_type": "code",
   "execution_count": null,
   "metadata": {},
   "outputs": [],
   "source": [
    "nums1 = [1,2,3,0,0,0]\n",
    "m = 3\n",
    "\n",
    "nums2 = [2,5,6]\n",
    "n = 3\n",
    "\n",
    "class Solution(object):\n",
    "    def merge(self, nums1, m, nums2, n):\n",
    "        i = m - 1\n",
    "        j = n - 1\n",
    "        k = m + n - 1 \n",
    "        print(\"--------Initials---------\")\n",
    "        print(f\"i is: {i}\")\n",
    "        print(f\"j is: {j}\")\n",
    "        print(f\"k is: {k}\")\n",
    "        \n",
    "        print(\"--------First Loop---------\")\n",
    "        # Merge nums1 and nums2 starting from the end\n",
    "        while i >= 0 and j >= 0:\n",
    "            print(\"--------Next Iteration---------\")\n",
    "            if nums1[i] > nums2[j]:\n",
    "                nums1[k] = nums1[i]\n",
    "                i -= 1\n",
    "            else:\n",
    "                nums1[k] = nums2[j]\n",
    "                j -= 1\n",
    "            k -= 1\n",
    "            print(f\"i is: {i}\")\n",
    "            print(f\"j is: {j}\")\n",
    "            print(f\"k is: {k}\")\n",
    "        \n",
    "        print(\"--------Next Loop---------\")\n",
    "        # If there are remaining elements in nums2, copy them over\n",
    "        while j >= 0:\n",
    "            nums1[k] = nums2[j]\n",
    "            k -= 1\n",
    "            j -= 1\n",
    "            print(f\"j is {j}\")\n",
    "            print(f\"k is: {k}\")\n",
    "\n",
    "        return nums1\n",
    "        "
   ]
  },
  {
   "cell_type": "code",
   "execution_count": null,
   "metadata": {},
   "outputs": [],
   "source": [
    "nums1 = [1,2,3,0,0,0]\n",
    "m = 3\n",
    "\n",
    "nums2 = [2,5,6]\n",
    "n = 3\n",
    "\n",
    "\n",
    "class Solution(object):\n",
    "    def merge(self, nums1, m, nums2, n):\n",
    "        \"\"\"\n",
    "        :type nums1: List[int]\n",
    "        :type m: int\n",
    "        :type nums2: List[int]\n",
    "        :type n: int\n",
    "        :rtype: None Do not return anything, modify nums1 in-place instead.\n",
    "        \"\"\"\n",
    "        k = 0\n",
    "        for i in range(m+n):\n",
    "            if nums1[i] == 0:\n",
    "                nums1[i] = nums2[k]\n",
    "                k += 1\n",
    "\n",
    "        for i in range(m+n):\n",
    "            for j in range (m+n - i - 1):\n",
    "                if nums1[j] > nums1[j+1]:\n",
    "                    nums1[j], nums1[j+1] = nums1[j+1], nums1[j]\n",
    "\n",
    "        return nums1\n",
    "            \n",
    "        "
   ]
  },
  {
   "cell_type": "code",
   "execution_count": 2,
   "metadata": {},
   "outputs": [],
   "source": [
    "object = Solution()"
   ]
  },
  {
   "cell_type": "code",
   "execution_count": 3,
   "metadata": {},
   "outputs": [
    {
     "data": {
      "text/plain": [
       "[1, 2, 2, 3, 5, 6]"
      ]
     },
     "execution_count": 3,
     "metadata": {},
     "output_type": "execute_result"
    }
   ],
   "source": [
    "nums1 = [1,2,3,0,0,0]\n",
    "m = 3\n",
    "\n",
    "nums2 = [2,5,6]\n",
    "n = 3\n",
    "\n",
    "object.merge(nums1, m, nums2, n)"
   ]
  },
  {
   "cell_type": "markdown",
   "metadata": {},
   "source": [
    "### 3. Remove Duplicates from Sorted Array"
   ]
  },
  {
   "cell_type": "code",
   "execution_count": 1,
   "metadata": {},
   "outputs": [
    {
     "name": "stdout",
     "output_type": "stream",
     "text": [
      "5\n",
      "[0, 0, 2, 3, 4, 2, 3, 4, 3, 4]\n"
     ]
    }
   ],
   "source": [
    "nums = [0,0,1,1,1,2,2,3,3,4]\n",
    "\n",
    "class Solution(object):\n",
    "    def removeDuplicates(self, nums):\n",
    "        \"\"\"\n",
    "        :type nums: List[int]\n",
    "        :rtype: int\n",
    "        \"\"\"\n",
    "        \n",
    "        unique = []\n",
    "\n",
    "        for i in range(len(nums)):\n",
    "            if nums[i] not in unique:\n",
    "                unique.append(nums[i])\n",
    "\n",
    "        for i in range(len(unique)):\n",
    "            nums[i] = unique[i]\n",
    "\n",
    "        return len(unique)\n",
    "    \n",
    "    def removeDuplicatesFaster(self, nums):\n",
    "        \"\"\"\n",
    "        :type nums: List[int]\n",
    "        :rtype: int\n",
    "        \"\"\"\n",
    "\n",
    "        j = 1\n",
    "\n",
    "        for i in range(len(nums)):\n",
    "            if nums[i] != nums[i-1]:\n",
    "                nums[j] = nums[i]\n",
    "                j += 1\n",
    "\n",
    "        return nums\n",
    "\n",
    "\n",
    "object = Solution()\n",
    "print(object.removeDuplicates(nums))\n",
    "print(object.removeDuplicatesFaster(nums))\n"
   ]
  },
  {
   "cell_type": "code",
   "execution_count": null,
   "metadata": {},
   "outputs": [],
   "source": [
    "class Solution {\n",
    "public:\n",
    "    int removeDuplicates(vector<int>& nums) {\n",
    "        int j = 1;\n",
    "        for(int i = 1; i < nums.size(); i++){\n",
    "            if(nums[i] != nums[i - 1]){\n",
    "                nums[j] = nums[i];\n",
    "                j++;\n",
    "            }\n",
    "        }\n",
    "        return j;\n",
    "    }\n",
    "};"
   ]
  },
  {
   "cell_type": "markdown",
   "metadata": {},
   "source": [
    "### 4. Return Majority Element"
   ]
  },
  {
   "cell_type": "code",
   "execution_count": 1,
   "metadata": {},
   "outputs": [],
   "source": [
    "nums = [2,2,1,1,1,2,2]\n",
    "\n",
    "class Solution(object):\n",
    "    def majorityElement(self, nums):\n",
    "        \"\"\"\n",
    "        :type nums: List[int]\n",
    "        :rtype: int\n",
    "        \"\"\"\n",
    "\n",
    "        count = {}\n",
    "\n",
    "        for item in nums:\n",
    "            if item in count.keys():\n",
    "                count[item] += 1\n",
    "            else:\n",
    "                count[item] = 1\n",
    "\n",
    "            if count[item] > len(nums)/ 2:\n",
    "                return item"
   ]
  },
  {
   "cell_type": "code",
   "execution_count": null,
   "metadata": {},
   "outputs": [],
   "source": [
    "class Solution:\n",
    "    def majorityElement(self, nums: List[int]) -> int:\n",
    "        hash = {}\n",
    "        res = majority = 0\n",
    "        \n",
    "        for n in nums:\n",
    "            hash[n] = 1 + hash.get(n, 0)\n",
    "            if hash[n] > majority:\n",
    "                res = n\n",
    "                majority = hash[n]\n",
    "        \n",
    "        return res"
   ]
  },
  {
   "cell_type": "code",
   "execution_count": 2,
   "metadata": {},
   "outputs": [
    {
     "name": "stdout",
     "output_type": "stream",
     "text": [
      "2\n"
     ]
    }
   ],
   "source": [
    "object = Solution()\n",
    "count_dict = object.majorityElement(nums)\n",
    "print(count_dict)"
   ]
  },
  {
   "cell_type": "markdown",
   "metadata": {},
   "source": [
    "### 5. Roman Numerals to Integers"
   ]
  },
  {
   "cell_type": "code",
   "execution_count": 3,
   "metadata": {},
   "outputs": [],
   "source": [
    "class Solution(object):\n",
    "    def romanToInt(self, s):\n",
    "        \"\"\"\n",
    "        :type s: str\n",
    "        :rtype: int\n",
    "        \"\"\"\n",
    "\n",
    "        roman = {\n",
    "            \"I\": 1,\n",
    "            \"V\": 5,\n",
    "            \"X\": 10,\n",
    "            \"L\": 50,\n",
    "            \"C\": 100,\n",
    "            \"D\": 500,\n",
    "            \"M\": 1000\n",
    "        }\n",
    "\n",
    "        total = 0\n",
    "\n",
    "        for i in range(len(s)):\n",
    "            if i > 0 and roman[s[i]] > roman[s[i-1]]:\n",
    "                total += roman[s[i]] - 2 * roman[s[i-1]]\n",
    "            else:\n",
    "                total += roman[s[i]]\n",
    "\n",
    "        return total"
   ]
  },
  {
   "cell_type": "code",
   "execution_count": 5,
   "metadata": {},
   "outputs": [
    {
     "data": {
      "text/plain": [
       "1994"
      ]
     },
     "execution_count": 5,
     "metadata": {},
     "output_type": "execute_result"
    }
   ],
   "source": [
    "object = Solution()\n",
    "\n",
    "object.romanToInt(\"MCMXCIV\")"
   ]
  },
  {
   "cell_type": "markdown",
   "metadata": {},
   "source": [
    "#### Explanation\n",
    "First you need a loop to run through the full string. To get the length of the loop you use the range() funtion with the len() of the string. The usual case is just adding each roman numeral to the next. This assumes that each consecutive numeral is smaller than the previous. This case is caught in the else: statement. The exceptional case is when the preceding numeral is smaller than the current numeral. This only happens after the first index position (i>0). To check this condition we compare the numerals using string indexing and key calling fromt the dictionary. If the preceding numeral is smaller then we need to subtract from the current indexed numeral both the preceding value and the current reading of that value (hence 2*roman). This is also because of the case where the preceding numeral would have been counted in the previous iteration of the loop. "
   ]
  },
  {
   "cell_type": "markdown",
   "metadata": {},
   "source": [
    "### 6. Best time to buy and sell stock"
   ]
  },
  {
   "cell_type": "markdown",
   "metadata": {},
   "source": [
    "- Objective is to find the minimum buying price and the maximum selling price which means we are maximising the difference between two numbers but the lower number needs to have an index that is smaller than the higher number. First problem is to find the min and max number that satisfies the ordering issue"
   ]
  },
  {
   "cell_type": "code",
   "execution_count": 1,
   "metadata": {},
   "outputs": [],
   "source": [
    "stock = [7,1,5,3,6,4]\n",
    "\n",
    "class Solution(object):\n",
    "    def maxProfit(self, prices):\n",
    "        \"\"\"\n",
    "        :type prices: List[int]\n",
    "        :rtype: int\n",
    "        \"\"\"\n",
    "        max = 0\n",
    "        min = 0\n",
    "        profit = 0\n",
    "\n",
    "        for i in range(len(prices)):\n",
    "            print(i)\n",
    "            print(f\"profit:{profit}\")\n",
    "            for j in range(i+1, len(prices)):\n",
    "                print(i, j)\n",
    "                if prices[i] < prices[j]:\n",
    "                    min = prices[i]\n",
    "                    max = prices[j]\n",
    "                    difference = max-min\n",
    "                    if difference > profit:\n",
    "                        profit = difference\n",
    "                    else:\n",
    "                        pass\n",
    "                else:\n",
    "                    pass\n",
    "\n",
    "        return profit"
   ]
  },
  {
   "cell_type": "code",
   "execution_count": 1,
   "metadata": {},
   "outputs": [],
   "source": [
    "stock = [7,1,5,3,6,4]\n",
    "\n",
    "class Solution(object):\n",
    "    def maxProfit(self, prices):\n",
    "        \"\"\"\n",
    "        :type prices: List[int]\n",
    "        :rtype: int\n",
    "        \"\"\"\n",
    "        buy_day = sell_day = 0\n",
    "        profit = 0\n",
    "\n",
    "        for i in range(len(prices)):\n",
    "            for j in range(i+1, len(prices)):\n",
    "                if prices[i] < prices[j]:\n",
    "                    min = prices[i]\n",
    "                    max = prices[j]\n",
    "                    difference = max-min\n",
    "                    if difference > profit:\n",
    "                        profit = difference\n",
    "                        buy_day = i\n",
    "                        sell_day = j\n",
    "                    else:\n",
    "                        pass\n",
    "                else:\n",
    "                    pass\n",
    "\n",
    "        return profit"
   ]
  },
  {
   "cell_type": "code",
   "execution_count": 2,
   "metadata": {},
   "outputs": [
    {
     "name": "stdout",
     "output_type": "stream",
     "text": [
      "(5, 2, 5)\n"
     ]
    }
   ],
   "source": [
    "object = Solution()\n",
    "output = object.maxProfit(stock)\n",
    "print(output)"
   ]
  },
  {
   "cell_type": "code",
   "execution_count": 4,
   "metadata": {},
   "outputs": [
    {
     "data": {
      "text/plain": [
       "6"
      ]
     },
     "execution_count": 4,
     "metadata": {},
     "output_type": "execute_result"
    }
   ],
   "source": [
    "len(stock)"
   ]
  }
 ],
 "metadata": {
  "kernelspec": {
   "display_name": "tf-venv",
   "language": "python",
   "name": "python3"
  },
  "language_info": {
   "codemirror_mode": {
    "name": "ipython",
    "version": 3
   },
   "file_extension": ".py",
   "mimetype": "text/x-python",
   "name": "python",
   "nbconvert_exporter": "python",
   "pygments_lexer": "ipython3",
   "version": "3.9.6"
  }
 },
 "nbformat": 4,
 "nbformat_minor": 2
}
