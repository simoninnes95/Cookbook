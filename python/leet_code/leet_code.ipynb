{
 "cells": [
  {
   "cell_type": "markdown",
   "metadata": {},
   "source": [
    "### 1. Remove Element "
   ]
  },
  {
   "cell_type": "code",
   "execution_count": 1,
   "metadata": {},
   "outputs": [],
   "source": [
    "class Solution():\n",
    "\n",
    "    def __init__(self, nums, val):\n",
    "        self.nums = nums\n",
    "        self.val = val\n",
    "\n",
    "    def removeElement(self):\n",
    "        \"\"\"\n",
    "        :type nums: List[int]\n",
    "        :type val: int\n",
    "        :rtype: int\n",
    "        \"\"\"\n",
    "        k = 0\n",
    "\n",
    "        for i in range(len(self.nums)):\n",
    "            if self.nums[i] != self.val:\n",
    "                self.nums[k] = self.nums[i]\n",
    "                k += 1\n",
    "\n",
    "        for j in range(len(self.nums)):\n",
    "            if j >= k:\n",
    "                self.nums[j] = \"_\"\n",
    "        \n",
    "        return  self.nums"
   ]
  },
  {
   "cell_type": "code",
   "execution_count": 3,
   "metadata": {},
   "outputs": [
    {
     "name": "stdout",
     "output_type": "stream",
     "text": [
      "0\n"
     ]
    }
   ],
   "source": [
    "nums = [0,1,2,2,3,0,4,2]\n",
    "val = 2\n",
    "\n",
    "object = Solution(nums,val)\n",
    "\n",
    "new_length = object.removeElement()\n",
    "\n",
    "\n"
   ]
  },
  {
   "cell_type": "code",
   "execution_count": 4,
   "metadata": {},
   "outputs": [],
   "source": [
    "class Solution: \n",
    "    def removeElement(self, nums: List[int], val: int) -> int:\n",
    "        i = 0\n",
    "        for j in range(len(nums)):\n",
    "            if nums[j] != val:\n",
    "                nums[i], nums[j] = nums[j], nums[i]\n",
    "                i += 1\n",
    "        return i"
   ]
  },
  {
   "cell_type": "code",
   "execution_count": 6,
   "metadata": {},
   "outputs": [
    {
     "name": "stdout",
     "output_type": "stream",
     "text": [
      "0\n",
      "1\n",
      "2\n",
      "3\n",
      "4\n",
      "5\n",
      "6\n",
      "7\n"
     ]
    }
   ],
   "source": [
    "class Solution(object):\n",
    "    def removeElement(self, nums, val):\n",
    "        k = 0\n",
    "        for j in range(len(nums)):\n",
    "            if nums[j] != val:\n",
    "                nums[k], nums[j] = nums[j], nums[k]\n",
    "                k += 1\n",
    "        return k"
   ]
  },
  {
   "cell_type": "markdown",
   "metadata": {},
   "source": [
    "### 2. Merge Sorted Array"
   ]
  },
  {
   "cell_type": "code",
   "execution_count": 5,
   "metadata": {},
   "outputs": [],
   "source": [
    "nums1 = [1,2,3,0,0,0]\n",
    "m = 3\n",
    "\n",
    "nums2 = [2,5,6]\n",
    "n = 2"
   ]
  },
  {
   "cell_type": "code",
   "execution_count": 12,
   "metadata": {},
   "outputs": [],
   "source": [
    "listy = [0, 2, 5, 7, 1, 8]"
   ]
  },
  {
   "cell_type": "code",
   "execution_count": 10,
   "metadata": {},
   "outputs": [],
   "source": [
    "# Bubble Sort\n",
    "for i in range(m+n):\n",
    "    already_sorted = True\n",
    "    \n",
    "    for j in range (m+n - i - 1):\n",
    "        if listy[j] > listy[j+1]:\n",
    "            listy[j], listy[j+1] = listy[j+1], listy[j]"
   ]
  },
  {
   "cell_type": "code",
   "execution_count": 23,
   "metadata": {},
   "outputs": [
    {
     "name": "stdout",
     "output_type": "stream",
     "text": [
      "[0, 1, 2, 5, 7, 8]\n"
     ]
    }
   ],
   "source": [
    "# Merge Sort\n",
    "array = [0, 2, 5, 7, 1, 8]\n",
    "\n",
    "def merge_sort(left, right):\n",
    "    \n",
    "    if len(left) == 0:\n",
    "        return right\n",
    "    \n",
    "    if len(right) == 0:\n",
    "        return left\n",
    "    \n",
    "    result = []\n",
    "    index_left = index_right = 0\n",
    "\n",
    "    while len(result) < len(left) + len(right):\n",
    "        if left[index_left] <= right[index_right]:\n",
    "            result.append(left[index_left])\n",
    "            index_left += 1\n",
    "        else:\n",
    "            result.append(right[index_right])\n",
    "            index_right += 1\n",
    "\n",
    "        if index_left == len(left):\n",
    "            result += right[index_right:]\n",
    "            break\n",
    "\n",
    "        if index_right == len(right):\n",
    "            result += left[index_left]\n",
    "            break\n",
    "        \n",
    "    return result\n",
    " \n",
    "def merge(array): \n",
    "\n",
    "    if len(array) < 2:\n",
    "        return array\n",
    "    \n",
    "    midpoint = len(array) // 2\n",
    "\n",
    "    return merge_sort(left=merge(array[:midpoint]), \n",
    "                      right=merge(array[midpoint:]))\n",
    "\n",
    "\n",
    "y = merge(array)\n",
    "print(y)"
   ]
  },
  {
   "cell_type": "code",
   "execution_count": 21,
   "metadata": {},
   "outputs": [
    {
     "data": {
      "text/plain": [
       "[7, 1, 8]"
      ]
     },
     "execution_count": 21,
     "metadata": {},
     "output_type": "execute_result"
    }
   ],
   "source": [
    "midpoint = len(array) // 2\n",
    "array[:midpoint]\n",
    "array[midpoint:]"
   ]
  },
  {
   "cell_type": "code",
   "execution_count": 2,
   "metadata": {},
   "outputs": [],
   "source": [
    "class Solution(object):\n",
    "    def merge(self, nums1, m, nums2, n):\n",
    "        \"\"\"\n",
    "        :type nums1: List[int]\n",
    "        :type m: int\n",
    "        :type nums2: List[int]\n",
    "        :type n: int\n",
    "        :rtype: None Do not return anything, modify nums1 in-place instead.\n",
    "        \"\"\"\n",
    "        k = 0\n",
    "        for i in range(m+n):\n",
    "            if nums1[i] == 0:\n",
    "                nums1[i] = nums2[k]\n",
    "                k += 1\n",
    "\n",
    "        return nums1\n",
    "            \n",
    "        "
   ]
  },
  {
   "cell_type": "code",
   "execution_count": 3,
   "metadata": {},
   "outputs": [],
   "source": [
    "object = Solution()"
   ]
  },
  {
   "cell_type": "code",
   "execution_count": 4,
   "metadata": {},
   "outputs": [
    {
     "data": {
      "text/plain": [
       "[1, 2, 3, 2, 5, 0]"
      ]
     },
     "execution_count": 4,
     "metadata": {},
     "output_type": "execute_result"
    }
   ],
   "source": [
    "object.merge(nums1, m, nums2, n)"
   ]
  }
 ],
 "metadata": {
  "kernelspec": {
   "display_name": "tf-venv",
   "language": "python",
   "name": "python3"
  },
  "language_info": {
   "codemirror_mode": {
    "name": "ipython",
    "version": 3
   },
   "file_extension": ".py",
   "mimetype": "text/x-python",
   "name": "python",
   "nbconvert_exporter": "python",
   "pygments_lexer": "ipython3",
   "version": "3.9.6"
  }
 },
 "nbformat": 4,
 "nbformat_minor": 2
}
