{
 "cells": [
  {
   "cell_type": "markdown",
   "metadata": {},
   "source": [
    "### Avogadros Number & Number Density Equation\n",
    "\n",
    "Let's calculate the number density of a nuclide with a known physical density\n",
    "\n",
    "$$N=\\frac{N_A\\rho}{A}$$\n",
    "\n",
    "where $N_A$ is Avogadro's number, $\\rho$ is the physical density and $A$ is the mass number of a given nuclide."
   ]
  },
  {
   "cell_type": "markdown",
   "metadata": {},
   "source": [
    "### Calculate the Speed of Neutron\n",
    "\n",
    "And now calculate the speed of a neutron travelling with a kinetic energy of 2 MeV (Mega-electron Volt).\n",
    "\n",
    "$$v=\\sqrt{\\frac{2E}{m}}$$"
   ]
  }
 ],
 "metadata": {
  "language_info": {
   "name": "python"
  }
 },
 "nbformat": 4,
 "nbformat_minor": 2
}
