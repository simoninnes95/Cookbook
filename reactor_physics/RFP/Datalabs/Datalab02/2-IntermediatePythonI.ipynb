{
 "cells": [
  {
   "cell_type": "markdown",
   "metadata": {},
   "source": [
    "# Intermediate Python I\n",
    "\n",
    "Please indicate your name below, since you will need to submit this notebook completed latest the day after the datalab.\n",
    "\n",
    "Don't forget to save your progress during the datalab to avoid any loss due to crashes."
   ]
  },
  {
   "cell_type": "code",
   "execution_count": 4,
   "metadata": {},
   "outputs": [],
   "source": [
    "name='Simon Innes'"
   ]
  },
  {
   "cell_type": "markdown",
   "metadata": {},
   "source": [
    "During the previous datalab we have learnt about the basic built-in features of python: we learnt about variable and data types, loops and conditions. We also mentioned before that there are thousands of open source packages which can be imported to python. Several of these libraries are considered rather standard (and preinstalled when using anaconda). If we would like to create a package executing less standard tasks (for example parsing nuclear data formats), it is worth browsing the world wide web for pre-existing solutions before reinvintenting the wheel. There is for example the nuclear engineering toolkit called Pyne which provides a lot of functionality relevant for nuclear scientists. \n",
    "\n",
    "In the next two datalabs we are going to try some standard libraries, and get acquainted with various data formats.\n",
    "\n",
    "Libraries reviewed today are:\n",
    "- numpy which provides data containers and functions to perform numerical analysis, matrix operations, linear algebra and a lot more.\n",
    "- matplotlib which provides visualization tools from simple 2D plots to advanced 3D visualizations\n",
    "- scipy which provides scientific tools, for example fitting, ODE solvers, numerical integration\n",
    "- re which allows using regular expressions. A regular expression (often called regex or regexp) is a search pattern specified as a sequence of characters. The `re` package provides regexp operations. \n",
    "\n",
    "It is neither possible nor necessary to review all the features of these packages, rather we would like to provide you with the basic terminology and to cover the basic functionality of these packages. That said, what is imporant for now is to know about these packages, familiarize yourself with the basic principles of these tools. Later, in other exercises we are going to refer to functions and methods of these libraries. It is not required to keep all functionality of these libraries in your head, as you will advance you will often find yourself googling for solutions, reading through stackoverflow entries, and then with your basic understanding and the knowledge of the terminology you will be able to adapt the proposed solutions to your own needs.\n",
    "\n",
    "There are several other mainstream libraries of python which we will not cover at all in this course. For example symPy allows for symbolic operations, or sklearn provides an interface to machine learning models. Nevertheless, once you got a feeling for using python, it will be relatively easy for you to use any other package according to your future needs.\n",
    "\n",
    "\n",
    "\n",
    "## Numpy\n",
    "\n",
    "We saw before how to organize data in arrays called lists. Lists are extremely flexible, they can store data of different types (eg. `[1,'one',True]`), and one can easily create multidimensional lists, or matrices (eg. `[[1,2,3],[4,5,6],[7,8,9]]`). Nevertheless, in some sense this flexibility is also a drawback. If we perform operations on a list (for example by looping over its elements, and performing some simple mathetmatics), Python needs to check the type of each element. For a compiled code, when the type is declared beforehand such checks are not needed, hence it runs faster. Numpy (numerical python) offers a more efficient data structure called *numpy array* (which stores elements of the same type) and provides related data operations. Numpy arrays are important building blocks of several other tools (eg. data science applications), and they make life easier, hence it is valuable to understand how to use them.\n",
    "\n",
    "Besides the numpy array, numpy contains a lot of useful functions and libraries (operations and linear algebra on the arrays, random number generators etc), which we will not cover now, but we will use them later on. \n",
    "\n",
    "The common way to import numpy is with "
   ]
  },
  {
   "cell_type": "code",
   "execution_count": 5,
   "metadata": {},
   "outputs": [],
   "source": [
    "import numpy as np"
   ]
  },
  {
   "cell_type": "markdown",
   "metadata": {},
   "source": [
    "Here we state that we want to `import numpy`, and later we will refer to it as `np`, meaning that we can access functions from numpy with `np.functionName()`. One can use different reference names as well, or just simply `import numpy`, and refer to functions with `numpy.functionName()`. (We could import directly functions from numpy, for example `from numpy import cos`, or we could import everything from numpy with `from numpy import *`, however this is generally not adviced since some libraries might have functions with the same name, like there is a `cos` implementation both in `math` and numpy, and the two implementations do not have the same functionality (eg. the numpy version can use lists as an input, the math version cannot).\n",
    "\n",
    "Let's look at numpy arrays.\n",
    "\n",
    "What would you expect when you execute this?"
   ]
  },
  {
   "cell_type": "code",
   "execution_count": 6,
   "metadata": {},
   "outputs": [
    {
     "data": {
      "text/plain": [
       "array([2, 2, 3])"
      ]
     },
     "execution_count": 6,
     "metadata": {},
     "output_type": "execute_result"
    }
   ],
   "source": [
    "a=np.array([1,2,3])\n",
    "a[0]=2.3\n",
    "a"
   ]
  },
  {
   "cell_type": "code",
   "execution_count": 7,
   "metadata": {},
   "outputs": [
    {
     "name": "stdout",
     "output_type": "stream",
     "text": [
      "['0' '1.2' 'one']\n"
     ]
    },
    {
     "data": {
      "text/plain": [
       "array(['42.0', '1.2', 'one'], dtype='<U32')"
      ]
     },
     "execution_count": 7,
     "metadata": {},
     "output_type": "execute_result"
    }
   ],
   "source": [
    "b=np.array([0,1.2,'one'])\n",
    "print(b)\n",
    "b[0]=42.0\n",
    "b"
   ]
  },
  {
   "cell_type": "markdown",
   "metadata": {},
   "source": [
    "In the first case, python interprets the definition as the array only stores integers. Upon changing an element it will convert the float to an integer. You have to be careful, since we saw that in normal python a list like `[0,0,0]` can be updated with floats, but `np.array([0,0,0])` cannot. Nevertheless we will see that initializing an array with zeros should be done with `np.zeros()`.\n",
    "\n",
    "In the second case essentially the same thing happens. Python cannot interpret `'one'` as a number, instead it broadcasts the string type to all other elements. Upon modifying an element, it is automatically converted to string.\n",
    "\n",
    "One can however directly give a type to a numpy array (although when working with floats it is often just better to write out the decimals)."
   ]
  },
  {
   "cell_type": "code",
   "execution_count": 8,
   "metadata": {},
   "outputs": [
    {
     "name": "stdout",
     "output_type": "stream",
     "text": [
      "[1. 2. 3.]\n"
     ]
    },
    {
     "data": {
      "text/plain": [
       "array([2.3, 2. , 3. ], dtype=float32)"
      ]
     },
     "execution_count": 8,
     "metadata": {},
     "output_type": "execute_result"
    }
   ],
   "source": [
    "c=np.array([1, 2, 3], dtype='float32')\n",
    "print(c)\n",
    "c[0]=2.3\n",
    "c"
   ]
  },
  {
   "cell_type": "markdown",
   "metadata": {},
   "source": [
    "Numpy provides several functions to initialize arrays (even 2D), which are probably familiar to Matlab users:"
   ]
  },
  {
   "cell_type": "code",
   "execution_count": 9,
   "metadata": {},
   "outputs": [
    {
     "name": "stdout",
     "output_type": "stream",
     "text": [
      "[0. 0. 0.]\n",
      "[[0. 0. 0.]\n",
      " [0. 0. 0.]\n",
      " [0. 0. 0.]]\n",
      "[1. 1. 1.]\n",
      "[-5.         -4.79591837 -4.59183673 -4.3877551  -4.18367347 -3.97959184\n",
      " -3.7755102  -3.57142857 -3.36734694 -3.16326531 -2.95918367 -2.75510204\n",
      " -2.55102041 -2.34693878 -2.14285714 -1.93877551 -1.73469388 -1.53061224\n",
      " -1.32653061 -1.12244898 -0.91836735 -0.71428571 -0.51020408 -0.30612245\n",
      " -0.10204082  0.10204082  0.30612245  0.51020408  0.71428571  0.91836735\n",
      "  1.12244898  1.32653061  1.53061224  1.73469388  1.93877551  2.14285714\n",
      "  2.34693878  2.55102041  2.75510204  2.95918367  3.16326531  3.36734694\n",
      "  3.57142857  3.7755102   3.97959184  4.18367347  4.3877551   4.59183673\n",
      "  4.79591837  5.        ]\n"
     ]
    }
   ],
   "source": [
    "a=np.zeros(3)\n",
    "print(a)\n",
    "A=np.zeros((3,3))\n",
    "print(A)\n",
    "b=np.ones(3)\n",
    "print(b)\n",
    "c=np.linspace(-5,5,50)\n",
    "print(c)"
   ]
  },
  {
   "cell_type": "code",
   "execution_count": 10,
   "metadata": {},
   "outputs": [
    {
     "name": "stdout",
     "output_type": "stream",
     "text": [
      "(3, 3)\n",
      "50\n"
     ]
    }
   ],
   "source": [
    "print(A.shape)\n",
    "print(len(c))"
   ]
  },
  {
   "cell_type": "markdown",
   "metadata": {},
   "source": [
    "Indexing of numpy arrays is similar as for lists, however for matrices we reach the elements with comma separated indices."
   ]
  },
  {
   "cell_type": "code",
   "execution_count": 11,
   "metadata": {},
   "outputs": [
    {
     "name": "stdout",
     "output_type": "stream",
     "text": [
      "[0 1 2 3 4 5 6 7 8]\n",
      "[2 3 4]\n",
      "[2 4 6]\n"
     ]
    }
   ],
   "source": [
    "B=np.arange(9)\n",
    "print(B)\n",
    "print(B[2:5])\n",
    "print(B[2:8:2]) #start:stop:step"
   ]
  },
  {
   "cell_type": "code",
   "execution_count": 12,
   "metadata": {},
   "outputs": [
    {
     "name": "stdout",
     "output_type": "stream",
     "text": [
      "[[0 1 2]\n",
      " [3 4 5]\n",
      " [6 7 8]]\n",
      "[1 4 7]\n",
      "[3 4 5]\n",
      "4\n"
     ]
    }
   ],
   "source": [
    "C=B.reshape((3,3))\n",
    "print(C)\n",
    "print(C[:,1]) #second column\n",
    "print(C[1,:]) #second row\n",
    "print(C[1,1])"
   ]
  },
  {
   "cell_type": "markdown",
   "metadata": {},
   "source": [
    "With numpy arrays we can easily perform aggregations, see the examples below. This is powerful, when needed to be performed on large arrays."
   ]
  },
  {
   "cell_type": "code",
   "execution_count": 13,
   "metadata": {},
   "outputs": [
    {
     "name": "stdout",
     "output_type": "stream",
     "text": [
      "0\n",
      "8\n",
      "36\n",
      "4.0\n"
     ]
    }
   ],
   "source": [
    "print(np.min(C))\n",
    "print(np.max(C))\n",
    "print(np.sum(C))\n",
    "print(np.mean(C))"
   ]
  },
  {
   "cell_type": "markdown",
   "metadata": {},
   "source": [
    "And we can perform operations with the arrays, and apply mathematical functions on the arrays. Notice that doing the same with lists would require loops."
   ]
  },
  {
   "cell_type": "code",
   "execution_count": 14,
   "metadata": {},
   "outputs": [
    {
     "name": "stdout",
     "output_type": "stream",
     "text": [
      "[[100 101 102]\n",
      " [103 104 105]\n",
      " [106 107 108]]\n",
      "[[ 0  2  4]\n",
      " [ 6  8 10]\n",
      " [12 14 16]]\n",
      "[[ 0  3  6]\n",
      " [ 9 12 15]\n",
      " [18 21 24]]\n",
      "[[ 0.          0.84147098  0.90929743]\n",
      " [ 0.14112001 -0.7568025  -0.95892427]\n",
      " [-0.2794155   0.6569866   0.98935825]]\n"
     ]
    }
   ],
   "source": [
    "print(C+100)\n",
    "print(C+C)\n",
    "print(3*C)\n",
    "print(np.sin(C))"
   ]
  },
  {
   "cell_type": "markdown",
   "metadata": {},
   "source": [
    "What makes numpy arrays even more powerful is that it is possible to mask them, ie. we can filter arrays based on conditions of other arrays"
   ]
  },
  {
   "cell_type": "code",
   "execution_count": 15,
   "metadata": {},
   "outputs": [
    {
     "data": {
      "text/plain": [
       "array([1.00000000e-03, 3.35981829e-03, 1.12883789e-02, 3.79269019e-02,\n",
       "       1.27427499e-01, 4.28133240e-01, 1.43844989e+00, 4.83293024e+00,\n",
       "       1.62377674e+01, 5.45559478e+01, 1.83298071e+02, 6.15848211e+02,\n",
       "       2.06913808e+03, 6.95192796e+03, 2.33572147e+04, 7.84759970e+04,\n",
       "       2.63665090e+05, 8.85866790e+05, 2.97635144e+06, 1.00000000e+07])"
      ]
     },
     "execution_count": 15,
     "metadata": {},
     "output_type": "execute_result"
    }
   ],
   "source": [
    "energy=np.logspace(-3,7,20) #20 values between 1e-3 and 1e7\n",
    "energy"
   ]
  },
  {
   "cell_type": "code",
   "execution_count": 16,
   "metadata": {},
   "outputs": [
    {
     "data": {
      "text/plain": [
       "array([1.00000000e+03, 2.97635144e+02, 8.85866790e+01, 2.63665090e+01,\n",
       "       7.84759970e+00, 2.33572147e+00, 6.95192796e-01, 2.06913808e-01,\n",
       "       6.15848211e-02, 1.83298071e-02, 5.45559478e-03, 1.62377674e-03,\n",
       "       4.83293024e-04, 1.43844989e-04, 4.28133240e-05, 1.27427499e-05,\n",
       "       3.79269019e-06, 1.12883789e-06, 3.35981829e-07, 1.00000000e-07])"
      ]
     },
     "execution_count": 16,
     "metadata": {},
     "output_type": "execute_result"
    }
   ],
   "source": [
    "values=1/energy\n",
    "values"
   ]
  },
  {
   "cell_type": "code",
   "execution_count": 17,
   "metadata": {},
   "outputs": [
    {
     "data": {
      "text/plain": [
       "array([ True,  True,  True,  True,  True,  True, False, False, False,\n",
       "       False, False, False, False, False, False, False, False, False,\n",
       "       False, False])"
      ]
     },
     "execution_count": 17,
     "metadata": {},
     "output_type": "execute_result"
    }
   ],
   "source": [
    "energy<1.0"
   ]
  },
  {
   "cell_type": "code",
   "execution_count": 18,
   "metadata": {},
   "outputs": [
    {
     "data": {
      "text/plain": [
       "array([1000.        ,  297.63514416,   88.58667904,   26.36650899,\n",
       "          7.8475997 ,    2.33572147])"
      ]
     },
     "execution_count": 18,
     "metadata": {},
     "output_type": "execute_result"
    }
   ],
   "source": [
    "values[energy<1.0] # Retruns all the values where the energy is less than 1.0"
   ]
  },
  {
   "cell_type": "code",
   "execution_count": 19,
   "metadata": {},
   "outputs": [
    {
     "data": {
      "text/plain": [
       "array([1000.        ,  297.63514416,   88.58667904,   26.36650899,\n",
       "          7.8475997 ,    2.33572147,    0.        ,    0.        ,\n",
       "          0.        ,    0.        ,    0.        ,    0.        ,\n",
       "          0.        ,    0.        ,    0.        ,    0.        ,\n",
       "          0.        ,    0.        ,    0.        ,    0.        ])"
      ]
     },
     "execution_count": 19,
     "metadata": {},
     "output_type": "execute_result"
    }
   ],
   "source": [
    "values*(energy<1.0) #we multiply with bools, so ones and zeros. Keeps the same shape."
   ]
  },
  {
   "cell_type": "markdown",
   "metadata": {},
   "source": [
    "Last, we can mention that numpy also has some functions to read data in columns. For example if we open the file '2-U235_xs_cap.txt', we can see that it contains two columns of data:\n",
    "\n",
    "```\n",
    "    Incident energy (ev)\tcross section (barn)\n",
    "    1.0E-5\t5960.097\n",
    "    1.0625E-5\t5782.129\n",
    "    1.125E-5\t5619.206\n",
    "    1.1875E-5\t5469.321\n",
    "    1.25E-5\t5330.822\n",
    "    1.375E-5\t5082.714\n",
    "    1.5E-5\t4866.305\n",
    "    1.625E-5\t4675.372\n",
    "    1.75E-5\t4505.28\n",
    "    1.875E-5\t4352.493\n",
    "    ...\n",
    "```\n",
    "\n",
    "We do not need to write a parser to read this file, instead we can use the `np.loadtxt()` function."
   ]
  },
  {
   "cell_type": "code",
   "execution_count": 20,
   "metadata": {},
   "outputs": [
    {
     "data": {
      "text/plain": [
       "array([[1.000000e-05, 5.960097e+03],\n",
       "       [1.062500e-05, 5.782129e+03],\n",
       "       [1.125000e-05, 5.619206e+03],\n",
       "       ...,\n",
       "       [2.900000e+07, 2.860958e-04],\n",
       "       [2.950000e+07, 2.811358e-04],\n",
       "       [3.000000e+07, 2.763430e-04]])"
      ]
     },
     "execution_count": 20,
     "metadata": {},
     "output_type": "execute_result"
    }
   ],
   "source": [
    "u235=np.loadtxt('02-sample.txt',skiprows=1) #we skip the first row, which is a header\n",
    "u235"
   ]
  },
  {
   "cell_type": "markdown",
   "metadata": {},
   "source": [
    "As said before, numpy has a lot of other functionality what we cannot cover in one single datalab, but later we will cover the ones needed for solving the exercises."
   ]
  },
  {
   "cell_type": "markdown",
   "metadata": {},
   "source": [
    "## Matplotlib\n",
    "\n",
    "We saw previously how to do some mathematics with Python, but of course as aspiring scientists or engineers we would like to present our results visually as well. Matplotlib is a multi-platform data visualization library. It is designed to work with Numpy arrays. It will allow us to create 2D and 3D plots, and we can even create simple graphics as we will see. Matplotlib works well on several operating systems and it supports several output formats.\n",
    "\n",
    "The basic syntax of Matplotlib will feel familiar to Matlab users, and indeed it is straightforward to create basic plots. However, creating more difficult plots can feel sometimes frustrating.\n",
    "\n",
    "Besides Matplotlib, an other mainstream visualization library called Seaborn is also available in the Python universe. We are not going to use this in the course.\n",
    "\n",
    "### Simple 2D plot\n",
    "\n",
    "Let us first simply look at the basic features by plotting the exponential decay curve. The most simple example would look like this. "
   ]
  },
  {
   "cell_type": "code",
   "execution_count": 21,
   "metadata": {},
   "outputs": [
    {
     "data": {
      "image/png": "[encoded data removed]",
      "text/plain": [
       "<Figure size 640x480 with 1 Axes>"
      ]
     },
     "metadata": {},
     "output_type": "display_data"
    }
   ],
   "source": [
    "import matplotlib.pyplot as plt\n",
    "import numpy as np\n",
    "\n",
    "Thalf=14.9 #days\n",
    "lam=np.log(2)/Thalf #1/days\n",
    "N0=1e6 #number of atoms \n",
    "time=np.linspace(0,200,50) #in days\n",
    "atoms=N0*np.exp(-lam*time)\n",
    "\n",
    "plt.figure()\n",
    "plt.plot(time,atoms)\n",
    "plt.show()"
   ]
  },
  {
   "cell_type": "markdown",
   "metadata": {},
   "source": [
    "As an other simple example we can plot the content of the previously read file (which in fact is the neutron capture cross section of uranium-235. Here we use the `plt.loglog` function to have a logarithmic scale, and we set the labels of the axes."
   ]
  },
  {
   "cell_type": "code",
   "execution_count": 22,
   "metadata": {},
   "outputs": [
    {
     "data": {
      "image/png": "[encoded data removed]",
      "text/plain": [
       "<Figure size 640x480 with 1 Axes>"
      ]
     },
     "metadata": {},
     "output_type": "display_data"
    }
   ],
   "source": [
    "plt.figure()\n",
    "plt.loglog(u235[:,0],u235[:,1])\n",
    "plt.xlabel('energy (eV)')\n",
    "plt.ylabel('cross section (barn)')\n",
    "plt.show()"
   ]
  },
  {
   "cell_type": "markdown",
   "metadata": {},
   "source": [
    "In the following we will show how to customize parts of the figure. With `plt.figure` we create a canvas (and can set a size), then `plt.plot` will plot the specified X and Y arrays against each other. Here we can set the color, the type of the curve (solid or dashed etc.), the markers, and marker size or line width (`lw`), and we can add a label. If more `plt.plot` commands would be included, more curves would appear on the canvas. We can include a label, which will be shown if a legend is created (`plt.legend`)\n",
    "\n",
    "We can set the label on the x and y axis (`plt.xlabel`, `plt.ylabel`), and a title (`plt.title`). LaTeX expressions can be used where strings are given to describe content (`r'$a=3$'` will be rendered as LaTeX, `a=3` would be rendered as a normal string). With `xlim`, `ylim`, `xticks` and `yticks` we can set the boundaries of the plot and overwrite the default tick positions and labels.\n",
    "\n",
    "We can include a grid (`plt.grid`), and we can we can include custom horizontal and vertical lines (`plt.axhline` and `plt.axvline`).\n",
    "\n",
    "Note that all these commands are optional, and they have further parameters to tune. Almost anything is possible here. Don't be afraid to google, or ask ChatGPT for solutions when you want to make your plots pretty.\n",
    "\n",
    "The `matplotlib.pyplot` library has several more plotting options for scatter plots, errorbars, histograms, barplots, charts etc. You can also change the axis to logarithmic (and there are functions readily available for this which might sound familiar to previous Matlab users: `plt.loglog`, `plt.semilogx`, `plt.semilogy`. We will use some of these later in the course. "
   ]
  },
  {
   "cell_type": "code",
   "execution_count": null,
   "metadata": {},
   "outputs": [],
   "source": [
    "import numpy as np\n",
    "import matplotlib.pyplot as plt\n",
    "\n",
    "Thalf=14.9 #days\n",
    "lam=np.log(2)/Thalf #1/days\n",
    "N0=1e6 #number of atoms \n",
    "\n",
    "time=np.linspace(0,200,1000) #in days\n",
    "\n",
    "plt.figure(figsize=(10,4))\n",
    "plt.plot(time,N0*np.exp(-lam*time),'k-',lw=2,label=r'$N_0e^{-\\lambda t}$')\n",
    "plt.title('Exponential Decay')\n",
    "plt.xlabel('Time',fontsize=14)\n",
    "plt.ylabel('Number of nuclei',fontsize=14)\n",
    "\n",
    "\n",
    "plt.xticks([(i)*Thalf for i in range(1,14)],        #list of values where ticks are added\n",
    "           [r'$%dT_{1/2}$'%i for i in range(1,14)]) #list of strings written at the ticks\n",
    "\n",
    "plt.yticks([N0/i for i in [1,2,4,8,16]],            #list of values where ticks are added\n",
    "           [r'$N_0/%d$'%i for i in [1,2,4,8,16]])   #list of strings written at the ticks\n",
    "\n",
    "plt.xlim(0,200.0)\n",
    "plt.ylim(0,N0)\n",
    "\n",
    "plt.grid()\n",
    "plt.axhline(N0/2,xmin=0,xmax=Thalf/200.0,color='r',ls='--') #xmin and max between 0 and 1; ls: linestyle\n",
    "plt.axvline(Thalf,ymin=0,ymax=1/2,color='r',ls='--')\n",
    "\n",
    "plt.axhline(N0/4,xmin=0,xmax=2*Thalf/200.0,color='r',ls='--') #xmin and max between 0 and 1\n",
    "plt.axvline(2*Thalf,ymin=0,ymax=1/4,color='r',ls='--')\n",
    "\n",
    "plt.axhline(N0/8,xmin=0,xmax=3*Thalf/200.0,color='r',ls='--') #xmin and max between 0 and 1\n",
    "plt.axvline(3*Thalf,ymin=0,ymax=1/8,color='r',ls='--')\n",
    "\n",
    "plt.axhline(N0/16,xmin=0,xmax=4*Thalf/200.0,color='r',ls='--') #xmin and max between 0 and 1\n",
    "plt.axvline(4*Thalf,ymin=0,ymax=1/16,color='r',ls='--')\n",
    "\n",
    "# Notice that we could have used a for loop for this part\n",
    "#for i in range(1,5):\n",
    "#    plt.axhline(N0*0.5**i,xmin=0,xmax=i*Thalf/200.0,color='r',ls='--') #xmin and max between 0 and 1\n",
    "#    plt.axvline(i*Thalf,ymin=0,ymax=0.5**i,color='r',ls='--')\n",
    "\n",
    "plt.legend()\n",
    "#plt.savefig('myfigure.png',dpi=300)\n",
    "plt.show()"
   ]
  },
  {
   "cell_type": "markdown",
   "metadata": {},
   "source": [
    "### Simple 2D graphics\n",
    "\n",
    "Matplotlib allows us to create graphics as well, we can define Polygons, Circles etc and place them on the canvas. We can also combine these graphics elements with data plots.\n",
    "\n",
    "In the following we will want to define a function which becomes zero on the edges of a hexagon (let's consider we have a hexagonal reactor, and the neutron population becomes zero on the boundary). We can use matplotlib to draw a hexagon to define our problem. Note, that here we also use `plt.annotate` to place text on our canvas, and we switched off the visibility of the right and top axes."
   ]
  },
  {
   "cell_type": "code",
   "execution_count": null,
   "metadata": {},
   "outputs": [],
   "source": [
    "import matplotlib.pyplot as plt\n",
    "R=10.0\n",
    "fig, ax = plt.subplots()\n",
    "#defining the hexagon through its corners.\n",
    "polygon=plt.Polygon([[-R,0.0],[-1/2*R,np.sqrt(3)/2*R],[1/2*R,np.sqrt(3)/2*R],\n",
    "                    [R,0.0],[1/2*R,-np.sqrt(3)/2*R],[-1/2*R,-np.sqrt(3)/2*R]],facecolor='white',edgecolor='black')\n",
    "ax.add_artist(polygon)\n",
    "plt.axvline(0.0,color='black') #we draw a vertical line for y axis\n",
    "plt.axhline(0.0,color='black') #we draw a horizontal line for x axis\n",
    "plt.annotate(r'$y=\\sqrt{3}R-\\sqrt{3}x$',(R*0.8,R/2)) #write this expression to that location\n",
    "plt.annotate(r'$y=-\\sqrt{3}R+\\sqrt{3}x$',(R*0.8,-R/2))\n",
    "plt.annotate(r'$-R$',(-R*1.4,1))\n",
    "plt.annotate(r'$R$',(R*1.,1))\n",
    "plt.annotate(r'$y=\\frac{\\sqrt{3}}{2}R$',(0.,R))\n",
    "plt.xlim(-R*2.5,R*2.5) #limit the x-axis between -R*2.5, R*2.5\n",
    "plt.ylim(-R*2.5,R*2.5)\n",
    "plt.gca().set_aspect('equal', adjustable='box')\n",
    "plt.gca().spines['right'].set_visible(False)#Switch off frame on right\n",
    "plt.gca().spines['top'].set_visible(False)#Switch off frame on top\n",
    "plt.show()"
   ]
  },
  {
   "cell_type": "markdown",
   "metadata": {},
   "source": [
    "### Simple 3D plot\n",
    "\n",
    "We could construct a function from sines or cosines which disappears at the edge of a hexagon with a width $R$. One possible solution is\n",
    "\n",
    "$$f(x,y)=\\cos\\big(\\frac{\\pi}{\\sqrt{3}R}y\\big)\\cdot \\cos\\big(\\frac{\\pi}{2\\sqrt{3}R}(y+\\sqrt{3}x)\\big)\\cdot \\cos\\big(\\frac{\\pi}{2\\sqrt{3}R}(y-\\sqrt{3}x)\\big)$$.\n",
    "\n",
    "We first define a function `hexFunc()`, which will return zero if we are outside of the hexagon, and the mathematical function's value if we are inside. For this we will use a mask. **Note**: the backslash `\\` character  tells the python interpreter that the code is continued in the next line, this improves legibility.\n",
    "\n",
    "Then we can create a meshgrid, and evaluate the function at each of the grid points. Note that how concise numpy is, we didn't need to write any loop to evaluate the function at several grid points. Finally we can plot the surface with the `plot_surface` function. \n",
    "\n",
    "We can also plot a 2D projection/representation of the surface: with `contour` and `contourf` we can visualize contour lines and filled contour lines. With `imshow` the values are considered to be pixels of an image."
   ]
  },
  {
   "cell_type": "code",
   "execution_count": 11,
   "metadata": {},
   "outputs": [
    {
     "ename": "NameError",
     "evalue": "name 'plt' is not defined",
     "output_type": "error",
     "traceback": [
      "\u001b[0;31m---------------------------------------------------------------------------\u001b[0m",
      "\u001b[0;31mNameError\u001b[0m                                 Traceback (most recent call last)",
      "Cell \u001b[0;32mIn[11], line 33\u001b[0m\n\u001b[1;32m     29\u001b[0m Xn, Yn \u001b[38;5;241m=\u001b[39m np\u001b[38;5;241m.\u001b[39mmeshgrid(X, Y)\n\u001b[1;32m     31\u001b[0m Z\u001b[38;5;241m=\u001b[39mhexFunc(Xn,Yn,R)\n\u001b[0;32m---> 33\u001b[0m fig, ax \u001b[38;5;241m=\u001b[39m \u001b[43mplt\u001b[49m\u001b[38;5;241m.\u001b[39msubplots(subplot_kw\u001b[38;5;241m=\u001b[39m{\u001b[38;5;124m\"\u001b[39m\u001b[38;5;124mprojection\u001b[39m\u001b[38;5;124m\"\u001b[39m: \u001b[38;5;124m\"\u001b[39m\u001b[38;5;124m3d\u001b[39m\u001b[38;5;124m\"\u001b[39m})\n\u001b[1;32m     34\u001b[0m surf\u001b[38;5;241m=\u001b[39max\u001b[38;5;241m.\u001b[39mplot_surface(Xn, Yn, Z, cmap\u001b[38;5;241m=\u001b[39m\u001b[38;5;124m\"\u001b[39m\u001b[38;5;124mplasma\u001b[39m\u001b[38;5;124m\"\u001b[39m)\n\u001b[1;32m     35\u001b[0m fig\u001b[38;5;241m.\u001b[39mcolorbar(surf)\n",
      "\u001b[0;31mNameError\u001b[0m: name 'plt' is not defined"
     ]
    }
   ],
   "source": [
    "def hexFunc(x,y,R):\n",
    "    \"\"\"Function which disappears on the edge of a hexagon\n",
    "    \n",
    "    Parameters\n",
    "    ----------\n",
    "    X : ndarray\n",
    "        meshgrid X values.\n",
    "    Y : ndarray\n",
    "        meshgrid Y values\n",
    "    R : size of the hexagon\n",
    "    \"\"\"\n",
    "    z = np.zeros(x.shape)\n",
    "    mask = (y<=np.sqrt(3)/2*R) *  \\\n",
    "           (y>=-np.sqrt(3)/2*R) * \\\n",
    "           (y<=np.sqrt(3)*R-np.sqrt(3)*x) *  \\\n",
    "           (y>=-np.sqrt(3)*R-np.sqrt(3)*x) * \\\n",
    "           (y<=np.sqrt(3)*R+np.sqrt(3)*x) *  \\\n",
    "           (y>=-np.sqrt(3)*R+np.sqrt(3)*x)\n",
    "    z[mask] =np.cos(y[mask]*np.pi/np.sqrt(3)/R)*\\\n",
    "             np.cos((y[mask]+np.sqrt(3)*x[mask])*np.pi/2/np.sqrt(3)/R)*\\\n",
    "             np.cos((y[mask]-np.sqrt(3)*x[mask])*np.pi/2/np.sqrt(3)/R)\n",
    "    return z\n",
    "\n",
    "import numpy as np\n",
    "\n",
    "R=10 #cm\n",
    "X = np.linspace(-R, R, 1000)\n",
    "Y = np.linspace(-R, R, 1000)\n",
    "Xn, Yn = np.meshgrid(X, Y)\n",
    "\n",
    "Z=hexFunc(Xn,Yn,R)\n",
    "\n",
    "fig, ax = plt.subplots(subplot_kw={\"projection\": \"3d\"})\n",
    "surf=ax.plot_surface(Xn, Yn, Z, cmap=\"plasma\")\n",
    "fig.colorbar(surf)\n",
    "plt.show()"
   ]
  },
  {
   "cell_type": "code",
   "execution_count": null,
   "metadata": {},
   "outputs": [],
   "source": [
    "plt.figure()\n",
    "plt.contour(Xn,Yn,Z)\n",
    "plt.axis('equal')\n",
    "plt.colorbar()\n",
    "plt.show()"
   ]
  },
  {
   "cell_type": "code",
   "execution_count": null,
   "metadata": {},
   "outputs": [],
   "source": [
    "plt.figure()\n",
    "plt.contourf(Xn,Yn,Z)\n",
    "plt.axis('equal')\n",
    "plt.colorbar()\n",
    "plt.show()"
   ]
  },
  {
   "cell_type": "code",
   "execution_count": null,
   "metadata": {},
   "outputs": [],
   "source": [
    "plt.figure()\n",
    "plt.imshow(Z)\n",
    "plt.axis('equal')\n",
    "plt.colorbar()\n",
    "plt.show()"
   ]
  },
  {
   "cell_type": "markdown",
   "metadata": {},
   "source": [
    "## Scipy\n",
    "\n",
    "The name Scipy is a bit confusing: in a way Scipy is a whole ecosystem including numpy, matplotlib, pandas and other packages, but there is also a package called Scipy within this ecosystem. Probably one could spend a whole course just on covering the functionality of Scipy. It provides solutions to most of the engineering/science problems (fitting, optimization, integration, Fourier transform etc). Here we just use one illustrative example on how to solve simple coupled ODE systems, initial value problems, with it by using the `solve_ivp` function from the `scipy.integrate` package, and later when we need some other functionality we will introduce other functions.\n",
    "\n",
    "Let's solve the simple decay chain when a parent nuclide decays into a radioactive daughter: $P\\rightarrow D \\rightarrow$, with decay constants $\\lambda_P$ and $\\lambda_D$. The differential equations characterizing this process are\n",
    "\n",
    "$$\\frac{dN_P}{dt}=-\\lambda_P N_P$$\n",
    "\n",
    "$$\\frac{dN_D}{dt}=\\lambda_P N_P-\\lambda_D N_D$$\n",
    "\n",
    "with initial condition $N_P(t=0)=N_P(0)$ and $N_D(t=0)=0$.\n",
    "\n",
    "The same system could be written in matrix form:\n",
    "\n",
    "\\begin{equation}\n",
    "\\frac{d}{dt}\n",
    "\\begin{pmatrix}\n",
    "N_P \\\\ N_D\n",
    "\\end{pmatrix}\n",
    "=\n",
    "\\begin{pmatrix}\n",
    "-\\lambda_P & 0 \\\\ \\lambda_P & -\\lambda_D\n",
    "\\end{pmatrix}\n",
    "\\begin{pmatrix}\n",
    "N_P \\\\ N_D\n",
    "\\end{pmatrix}\n",
    "\\end{equation}\n",
    "\n",
    "or with using vectors ($N=(N_P \\: N_D)$) and matrices\n",
    "\n",
    "\\begin{equation} \n",
    "\\dot N=AN\n",
    "\\end{equation}\n",
    "\n",
    "We will use the `scipy.integrate.solve_ivp` function to solve numerically this system (note that we do not import the whole scipy library, only this function, and remember that you can access the documentation with `?solve_ivp`) in the form of $\\dot y=Ay$. The solver requires a function in the form `myDerivative(t,y)` which describes the derivative $Ay$. Optinally this function can have some extra arguments. Then this derivative function is passed to `solve_ivp`, along with the time span (time window in which the integration is performed), the initial conditions and the times at which $y$ is evaluated, and any arguments (`args`) needed by the derivative function.\n",
    "\n",
    "`sol=solve_ivp(myDerivative,(Tstart,Tend),[InitialConditions],t_eval=TimesArray,args=(arguments))`"
   ]
  },
  {
   "cell_type": "code",
   "execution_count": null,
   "metadata": {},
   "outputs": [],
   "source": [
    "from scipy.integrate import solve_ivp\n",
    "\n",
    "?solve_ivp"
   ]
  },
  {
   "cell_type": "code",
   "execution_count": null,
   "metadata": {},
   "outputs": [],
   "source": [
    "def derivDaughter(t,y,lp,ld):\n",
    "    A=np.array([[-lp,0.0],[lp,-ld]])\n",
    "    return np.dot(A,y)\n",
    "\n",
    "TP=14.9 #d, parent, and all time units are considered to be in days \n",
    "lP=np.log(2)/TP\n",
    "TD=9.9\n",
    "lD=np.log(2)/TD\n",
    "\n",
    "N0=50\n",
    "Tstart=0.0\n",
    "Tend=90.0 #days\n",
    "Neval=1001\n",
    "T_eval=np.linspace(Tstart,Tend, Neval)\n",
    "sol=solve_ivp(derivDaughter,(Tstart,Tend),[N0,0.0],t_eval=T_eval,args=(lP, lD))\n",
    "\n",
    "plt.figure()\n",
    "plt.plot(sol.t,sol.y[0],label='Ra')\n",
    "plt.plot(sol.t,sol.y[1],label='Act')\n",
    "plt.xlabel('time (d)')\n",
    "plt.legend()\n",
    "plt.ylabel('Number of nuclei')\n",
    "plt.show()"
   ]
  },
  {
   "cell_type": "markdown",
   "metadata": {},
   "source": [
    "## find() and re\n",
    "\n",
    "It is often required in science and engineering applications that one parses various files (for example outputs produced by a software, or data files), and need to extract some specific information. \n",
    "\n",
    "Python provides a basic string method (https://www.w3schools.com/python/python_ref_string.asp), to find strings within strings. Take a look at the code below. Let's assume that some software gives the final results in the following format, and we are interested in the 'keff' value. We could locate the number by matching the `=` sign, and the word `with`. Of course this is not perfect. What happens if a word or substring appears more than once?"
   ]
  },
  {
   "cell_type": "code",
   "execution_count": null,
   "metadata": {},
   "outputs": [],
   "source": [
    "resuStr='the final estimated keff = 1.04562 with an estimated standard deviation of 0.00057'\n",
    "i=resuStr.find('=')\n",
    "print(i)\n",
    "j=resuStr.find('with')\n",
    "print(j)\n",
    "print(float(resuStr[i+1:j]))"
   ]
  },
  {
   "cell_type": "markdown",
   "metadata": {},
   "source": [
    "A more accurate solution to problems like this is to use regular expressions. Regular expressions are not a part of python, it is an independent \"language\", which allows the description of a search pattern as a string. Nevertheless, python has a package `re` which let's python users apply regexp. Hardcore geeks probably know by heart all the possible regexp patterns, and I certainly advice you to [read up on them](https://www.rexegg.com/regex-quickstart.html), nevertheless for this course we will only need to read numbers from strings. And you can most often survive by googling \"regexp integer within string\" or similar phrases depending on your application.\n",
    "\n",
    "One function of the `re` package is `re.findall`, the first input should be a regular expression as a string, and the second is the string in which you would like to perform the search. Take the regular expression below, which will match floating point numbers. The pattern `[+-]?\\d+\\.\\d+` encodes a floating point number: in `[+-]?` the ? indicates zero or one occurence of the preceding element, which in this case is one of the characters in the `[]`. Outside of the bracket, the + indicates one or more  occurance of the preceding element, and `\\d` indicates a digit, so `\\d+` will match one or more digits. In total `\\d+\\.\\d+` will look for one or more digits followed by a floating point and followed by one or more digits. This pattern will not match numbers written as '1.' or '.9932'."
   ]
  },
  {
   "cell_type": "code",
   "execution_count": null,
   "metadata": {},
   "outputs": [],
   "source": [
    "import re\n",
    "\n",
    "re.findall('[+-]?\\d+\\.\\d+',resuStr)"
   ]
  },
  {
   "cell_type": "markdown",
   "metadata": {},
   "source": [
    "An other typical example a nuclear engineer faces often is that you'll need to split a string (for example the name of a nuclide), to get the symbol and the mass number of the nuclide."
   ]
  },
  {
   "cell_type": "code",
   "execution_count": null,
   "metadata": {},
   "outputs": [],
   "source": [
    "myNuc='U238'\n",
    "\n",
    "re.split('(\\d+)', myNuc)"
   ]
  },
  {
   "cell_type": "markdown",
   "metadata": {},
   "source": [
    "# Exercises \n",
    "\n",
    "## 1\n",
    "\n",
    "Construct a function $f(x,y)$ which becomes zero at the edges of a rectangle centered around the origin and with a side length of $a$. First create a 2D graphic representing the rectangle, and annotate one vertical and one horizontal side by giving the equation of the side. Then, use `plot_surface` and `contour` to visualize the function. \n",
    "\n",
    "Include the equation of the surface here with latex code:\n",
    "\n",
    "And write your function and code for plotting below."
   ]
  },
  {
   "cell_type": "code",
   "execution_count": null,
   "metadata": {},
   "outputs": [],
   "source": [
    "#your code comes here"
   ]
  },
  {
   "cell_type": "markdown",
   "metadata": {},
   "source": [
    "## 2\n",
    "\n",
    "Consider the following decay chain $U-234 \\rightarrow Th-230 \\rightarrow Ra-226 \\rightarrow Rn-222 \\rightarrow$, which is part of the U-238 decay serie. The alpha decays have the following half-lifes: 245.5ky, 75.38ky, 1602y and 3.82d.  Use scipy, and matplotlib to plot the number of nuclides and the activity between 0 and 15 kyears if $N_{U-234}(t=0)=5000000$, and the daughters are not present at $t=0$.\n",
    "\n",
    "- Inspect the half-lifes, what do you expect, what can cause numerical issues in this case?\n",
    "- What is your expectation on how will the activity of Ra-226 and Rn-222 compare to each other?"
   ]
  },
  {
   "cell_type": "code",
   "execution_count": null,
   "metadata": {},
   "outputs": [],
   "source": [
    "#your code comes here"
   ]
  },
  {
   "cell_type": "markdown",
   "metadata": {},
   "source": [
    "## 3\n",
    "\n",
    "The minimum energy required to disassemble the nucleus of an atom into its components is the binding energy. In this exercise you are going to compute the binding energy per nucleon for several nuclides in two ways:\n",
    "\n",
    "1. based on the relative atomic mass of the nuclides\n",
    "2. based on a semi-empirical formula.\n",
    "\n",
    "If we substract the mass of the nucleus from the mass of the nucleons and express it in energy unit we get the binding energy:\n",
    "\n",
    "$B(A,Z)=[Z\\cdot m_p+(A-Z)\\cdot m_n-M(A,Z)]c^2$\n",
    "\n",
    "For a given nuclide one can estimate the binding energy with the semi-empirical Bethe–Weizsäcker formula, which has various forms in literature. Here you can use the following form:\n",
    "\n",
    "$B(A,Z)=15.75A-94.8\\frac{(A/2 - Z)^2}{A}-17.8A^{2/3}-0.71Z^2A^{-1/3}+34\\delta A^{-3/4}$\n",
    "\n",
    "where $\\delta = 1$ for even-even nuclei, $\\delta = -1$ for odd-odd nuclei and $\\delta = 0$ otherwise.\n",
    "\n",
    "(Note: that all terms in the formula have a physical meaning: volume term, assymmetry term, surface term, Coulomb term and pairing term. Make sure based on the text book that you understand these).\n",
    "\n",
    "In the first formula one can express the neutron and proton mass in unified mass units (u). Also notice, that in most tabulated data (also here) you can only look up the relative atom mass of isotopes, and not the mass of the nucleus, thus the mass of the electrons needs to be taken into account as well. The reason for this is that for high Z isotopes it is difficult to remove all the electrons, so the neutral atoms are measured instead.\n",
    "\n",
    "You are given the relative mass (in unified mass units) of several nuclides  (downloaded from https://physics.nist.gov/cgi-bin/Compositions/stand_alone.pl?ele=&ascii=html) as a python nested dictionary `nuclides`. Dictionaries are used to store data values in key:value pairs. It is basically an unorder array with \"named\" columns. In this case the outer keys are nuclide identifiers, and the values are also dictionaries, with the keys being Z, A and m.\n",
    "\n",
    "Your task is to \n",
    "\n",
    "1. implement two functions which calculate $\\varepsilon=B(A,Z)/A$ with the two methods listed above.\n",
    "2. apply the functions for the nuclides listed in `nuclides`\n",
    "3. Plot the binding energy curves. Use solid line for the semi-empirical formula, and red dot markers `ro` for the results taking into account the relative mass\n",
    "4. Find the nuclide with the highest binding energy per nucleon, and use `plt.annotate` to include the name of the nuclide in the figure above the corresponding marker."
   ]
  },
  {
   "cell_type": "code",
   "execution_count": null,
   "metadata": {},
   "outputs": [],
   "source": [
    "import numpy as np\n",
    "import matplotlib.pyplot as plt\n",
    "me=5.48579909070e-4 #u\n",
    "mn=1.00866491588    #u\n",
    "mp=1.007276466621   #u\n",
    "muc2=931.49410242 #MeV\n",
    "\n",
    "nuclides={'H2': {'Z': 1, 'A': 2, 'm': 2.01410177812},\n",
    "        'H3': {'Z': 1, 'A': 3, 'm': 3.0160492779},\n",
    "        'He3': {'Z': 2, 'A': 3, 'm': 3.0160293201},\n",
    "        'He4': {'Z': 2, 'A': 4, 'm': 4.002603254},\n",
    "        'Li6': {'Z': 3, 'A': 6, 'm': 6.0151228874},\n",
    "        'O16': {'Z': 8, 'A': 16, 'm': 15.99491461957},\n",
    "        'S34': {'Z': 16, 'A': 34, 'm': 33.96786701},\n",
    "        'Fe56': {'Z': 26, 'A': 56, 'm': 55.9349375},\n",
    "        'Ni62': {'Z': 28, 'A': 62, 'm': 61.92834537},\n",
    "        'Kr84': {'Z': 36, 'A': 84, 'm': 83.9114977282},\n",
    "        'Sn119': {'Z': 50, 'A': 119, 'm': 118.90331117},\n",
    "        'Ti205': {'Z': 81, 'A': 205, 'm': 204.9744278},\n",
    "        'U238': {'Z': 92, 'A': 238, 'm': 238.0507884}}\n",
    "\n",
    "def BAZ(A,Z,m):\n",
    "    \"\"\"Function to calculate the binding energy per nucleon\n",
    "    \n",
    "    Parameters\n",
    "    ----------\n",
    "    A : int\n",
    "        Mass number of nuclide\n",
    "    Z : int\n",
    "        Proton number of nuclide\n",
    "    m : float\n",
    "        Mass of the nuclide\n",
    "    \"\"\"\n",
    "    eps=#YOUR CODE HERE\n",
    "    return eps/A\n",
    "\n",
    "def BAZ_BW(A,Z):\n",
    "    \"\"\"Function to calculate the binding energy per nucleon\n",
    "    with the semi-empirical formula\n",
    "    \n",
    "    Parameters\n",
    "    ----------\n",
    "    A : int\n",
    "        Mass number of nuclide\n",
    "    Z : int\n",
    "        Proton number of nuclide\n",
    "    \"\"\"\n",
    "    #your code comes here\n",
    "    return eps/A\n",
    "\n",
    "#your code to apply these functions and to plot the results comes here."
   ]
  }
 ],
 "metadata": {
  "kernelspec": {
   "display_name": "tf-venv",
   "language": "python",
   "name": "python3"
  },
  "language_info": {
   "codemirror_mode": {
    "name": "ipython",
    "version": 3
   },
   "file_extension": ".py",
   "mimetype": "text/x-python",
   "name": "python",
   "nbconvert_exporter": "python",
   "pygments_lexer": "ipython3",
   "version": "3.9.6"
  }
 },
 "nbformat": 4,
 "nbformat_minor": 4
}
