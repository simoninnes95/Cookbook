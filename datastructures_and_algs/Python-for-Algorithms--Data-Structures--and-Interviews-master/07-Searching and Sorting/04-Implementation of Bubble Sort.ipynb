{
 "cells": [
  {
   "cell_type": "markdown",
   "metadata": {},
   "source": [
    "# Implementation of a Bubble Sort\n",
    "\n",
    "The bubble sort makes multiple passes through a list. It compares adjacent items and exchanges those that are out of order. Each pass through the list places the next largest value in its proper place. In essence, each item “bubbles” up to the location where it belongs."
   ]
  },
  {
   "cell_type": "markdown",
   "metadata": {},
   "source": [
    "# Resources for Review\n",
    "\n",
    "Check out the resources below for a review of Bubble sort!\n",
    "\n",
    "* [Wikipedia](https://en.wikipedia.org/wiki/Bubble_sort)\n",
    "* [Visual Algo](http://visualgo.net/sorting.html)\n",
    "* [Animation](http://www.cs.armstrong.edu/liang/animation/web/BubbleSort.html)\n",
    "* [Sorting Algorithms Animcation with Pseudocode](http://www.sorting-algorithms.com/bubble-sort)"
   ]
  },
  {
   "cell_type": "code",
   "execution_count": null,
   "metadata": {},
   "outputs": [],
   "source": [
    "def bubble_sort(arr):\n",
    "    # For every element (arranged backwards)\n",
    "    for n in range(len(arr)-1,0,-1):\n",
    "        print(\"This is n:{}\".format(n))\n",
    "        #\n",
    "        for k in range(n):\n",
    "            print(\"This is index k:{}\".format(k))\n",
    "            # If we come to a point to switch\n",
    "            if arr[k]>arr[k+1]:\n",
    "                temp = arr[k]\n",
    "                arr[k] = arr[k+1]\n",
    "                arr[k+1] = temp"
   ]
  },
  {
   "cell_type": "code",
   "execution_count": 10,
   "metadata": {},
   "outputs": [
    {
     "data": {
      "text/plain": [
       "[9, 8, 7, 6, 5, 4, 3, 2, 1]"
      ]
     },
     "execution_count": 10,
     "metadata": {},
     "output_type": "execute_result"
    }
   ],
   "source": [
    "arr = [3,2,13,4,6,5,7,8,1,20]\n",
    "list(range(len(arr)-1,0,-1))"
   ]
  },
  {
   "cell_type": "code",
   "execution_count": 8,
   "metadata": {},
   "outputs": [
    {
     "data": {
      "text/plain": [
       "[0, 1, 2, 3, 4, 5, 6, 7, 8]"
      ]
     },
     "execution_count": 8,
     "metadata": {},
     "output_type": "execute_result"
    }
   ],
   "source": [
    "list(range(9))"
   ]
  },
  {
   "cell_type": "code",
   "execution_count": 13,
   "metadata": {},
   "outputs": [
    {
     "name": "stdout",
     "output_type": "stream",
     "text": [
      "This is n:9\n",
      "This is index k:0\n",
      "This is index k:1\n",
      "This is index k:2\n",
      "This is index k:3\n",
      "This is index k:4\n",
      "This is index k:5\n",
      "This is index k:6\n",
      "This is index k:7\n",
      "This is index k:8\n",
      "This is n:8\n",
      "This is index k:0\n",
      "This is index k:1\n",
      "This is index k:2\n",
      "This is index k:3\n",
      "This is index k:4\n",
      "This is index k:5\n",
      "This is index k:6\n",
      "This is index k:7\n",
      "This is n:7\n",
      "This is index k:0\n",
      "This is index k:1\n",
      "This is index k:2\n",
      "This is index k:3\n",
      "This is index k:4\n",
      "This is index k:5\n",
      "This is index k:6\n",
      "This is n:6\n",
      "This is index k:0\n",
      "This is index k:1\n",
      "This is index k:2\n",
      "This is index k:3\n",
      "This is index k:4\n",
      "This is index k:5\n",
      "This is n:5\n",
      "This is index k:0\n",
      "This is index k:1\n",
      "This is index k:2\n",
      "This is index k:3\n",
      "This is index k:4\n",
      "This is n:4\n",
      "This is index k:0\n",
      "This is index k:1\n",
      "This is index k:2\n",
      "This is index k:3\n",
      "This is n:3\n",
      "This is index k:0\n",
      "This is index k:1\n",
      "This is index k:2\n",
      "This is n:2\n",
      "This is index k:0\n",
      "This is index k:1\n",
      "This is n:1\n",
      "This is index k:0\n"
     ]
    }
   ],
   "source": [
    "bubble_sort(arr)"
   ]
  },
  {
   "cell_type": "code",
   "execution_count": 14,
   "metadata": {},
   "outputs": [],
   "source": [
    "def bubble_up(arr):\n",
    "\n",
    "    for index in range(len(arr)-1, 0, -1):\n",
    "\n",
    "        for k in range(index):\n",
    "\n",
    "            if arr[k] > arr[k+1]:\n",
    "\n",
    "                temp = arr[k+1]\n",
    "                arr[k+1] = arr[k]\n",
    "                arr[k] = temp\n",
    "\n",
    "    return arr\n"
   ]
  },
  {
   "cell_type": "code",
   "execution_count": 15,
   "metadata": {},
   "outputs": [
    {
     "data": {
      "text/plain": [
       "[1, 2, 3, 4, 5, 6, 7, 8, 13, 20]"
      ]
     },
     "execution_count": 15,
     "metadata": {},
     "output_type": "execute_result"
    }
   ],
   "source": [
    "arr = [3,2,13,4,6,5,7,8,1,20]\n",
    "bubble_up(arr)"
   ]
  }
 ],
 "metadata": {
  "kernelspec": {
   "display_name": "paperenv",
   "language": "python",
   "name": "simon"
  },
  "language_info": {
   "codemirror_mode": {
    "name": "ipython",
    "version": 3
   },
   "file_extension": ".py",
   "mimetype": "text/x-python",
   "name": "python",
   "nbconvert_exporter": "python",
   "pygments_lexer": "ipython3",
   "version": "3.13.5"
  }
 },
 "nbformat": 4,
 "nbformat_minor": 1
}
