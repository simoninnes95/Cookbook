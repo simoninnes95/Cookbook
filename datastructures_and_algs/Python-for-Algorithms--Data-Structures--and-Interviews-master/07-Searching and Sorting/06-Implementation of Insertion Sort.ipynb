{
 "cells": [
  {
   "cell_type": "markdown",
   "metadata": {},
   "source": [
    "# Implementation of Insertion Sort\n",
    "\n",
    "Insertion Sort builds the final sorted array (or list) one item at a time. It is much less efficient on large lists than more advanced algorithms such as quicksort, heapsort, or merge sort. "
   ]
  },
  {
   "cell_type": "markdown",
   "metadata": {},
   "source": [
    "# Resources for Review\n",
    "\n",
    "Check out the resources below for a review of Insertion sort!\n",
    "\n",
    "* [Wikipedia](https://en.wikipedia.org/wiki/Insertion_sort)\n",
    "* [Visual Algo](http://visualgo.net/sorting.html)\n",
    "* [Animation](http://cs.armstrong.edu/liang/animation/web/InsertionSort.html)\n",
    "* [Sorting Algorithms Animcation with Pseudocode](http://www.sorting-algorithms.com/insertion-sort)"
   ]
  },
  {
   "cell_type": "code",
   "execution_count": 1,
   "metadata": {},
   "outputs": [],
   "source": [
    "def insertion_sort(arr):\n",
    "    \n",
    "    # For every index in array\n",
    "    for i in range(1,len(arr)):\n",
    "        \n",
    "        # Set current values and position\n",
    "        currentvalue = arr[i]\n",
    "        position = i\n",
    "        \n",
    "        # Sorted Sublist\n",
    "        while position>0 and arr[position-1]>currentvalue:\n",
    "            \n",
    "            arr[position]=arr[position-1]\n",
    "            position = position-1\n",
    "\n",
    "        arr[position]=currentvalue"
   ]
  },
  {
   "cell_type": "code",
   "execution_count": 2,
   "metadata": {},
   "outputs": [
    {
     "data": {
      "text/plain": [
       "[1, 2, 3, 4, 5, 6, 8, 12, 25, 41]"
      ]
     },
     "execution_count": 2,
     "metadata": {},
     "output_type": "execute_result"
    }
   ],
   "source": [
    "arr =[3,5,4,6,8,1,2,12,41,25]\n",
    "insertion_sort(arr)\n",
    "arr"
   ]
  },
  {
   "cell_type": "markdown",
   "metadata": {},
   "source": [
    "INSERTION SORT \n",
    "\n",
    "make first element as sorted\n",
    "\n",
    "for each unsorted element X\n",
    "\n",
    "    extract the element X\n",
    "\n",
    "    for j = lastSortedItem down to 0\n",
    "\n",
    "        if current element j > X \n",
    "\n",
    "            move the element j to the right by 1\n",
    "\n",
    "    break loop and insert X here"
   ]
  },
  {
   "cell_type": "code",
   "execution_count": 1,
   "metadata": {},
   "outputs": [],
   "source": [
    "def ins_sort(arr):\n",
    "\n",
    "    for i in range(1, len(arr)):\n",
    "\n",
    "        j = i\n",
    "\n",
    "        while j > 0 and arr[j-1] > arr[j]:\n",
    "\n",
    "            # swap elements\n",
    "            temp = arr[j]\n",
    "            arr[j] = arr[j-1]\n",
    "            arr[j-1] = temp\n",
    "\n",
    "            j = j - 1\n",
    "\n",
    "        i = i + 1\n",
    "\n",
    "    return arr"
   ]
  },
  {
   "cell_type": "code",
   "execution_count": 2,
   "metadata": {},
   "outputs": [
    {
     "data": {
      "text/plain": [
       "[1, 2, 3, 4, 5, 6, 8, 12, 25, 41]"
      ]
     },
     "execution_count": 2,
     "metadata": {},
     "output_type": "execute_result"
    }
   ],
   "source": [
    "arr =[3,5,4,6,8,1,2,12,41,25]\n",
    "ins_sort(arr)\n",
    "arr"
   ]
  }
 ],
 "metadata": {
  "kernelspec": {
   "display_name": "paperenv",
   "language": "python",
   "name": "simon"
  },
  "language_info": {
   "codemirror_mode": {
    "name": "ipython",
    "version": 3
   },
   "file_extension": ".py",
   "mimetype": "text/x-python",
   "name": "python",
   "nbconvert_exporter": "python",
   "pygments_lexer": "ipython3",
   "version": "3.13.5"
  }
 },
 "nbformat": 4,
 "nbformat_minor": 1
}
