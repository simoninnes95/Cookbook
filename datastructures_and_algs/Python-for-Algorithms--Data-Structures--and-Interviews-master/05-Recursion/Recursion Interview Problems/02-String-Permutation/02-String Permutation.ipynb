{
 "cells": [
  {
   "cell_type": "markdown",
   "metadata": {
    "collapsed": true
   },
   "source": [
    "# String Permutation\n",
    "\n",
    "## Problem Statement\n",
    "\n",
    "Given a string, write a function that uses recursion to output a list of all the possible permutations of that string.\n",
    "\n",
    "For example, given s='abc' the function should return ['abc', 'acb', 'bac', 'bca', 'cab', 'cba']\n",
    "\n",
    "*Note: If a character is repeated, treat each occurence as distinct, for example an input of 'xxx' would return a list with 6 \"versions\" of 'xxx'*\n",
    "\n",
    "\n",
    "## Fill Out Your Solution Below\n",
    "\n",
    "Let's think about what the steps we need to take here are:"
   ]
  },
  {
   "cell_type": "code",
   "execution_count": 4,
   "metadata": {
    "collapsed": true
   },
   "outputs": [],
   "source": [
    "def permute(s):\n",
    "\n",
    "    out = []\n",
    "\n",
    "    if len(s) == 1:\n",
    "        out = [s]\n",
    "\n",
    "    else:\n",
    "\n",
    "        for i, letter in enumerate(s):\n",
    "\n",
    "            print(f\"Index is {i}, Letter is {letter}\")\n",
    "            print('-----------------------------')\n",
    "\n",
    "            for perm in permute(s[:i] + s[i+1:]):\n",
    "\n",
    "                print(f\"S[:i]: {s[:i]}\")\n",
    "                print(f\"S[i+1:]: {s[i+1:]}\")\n",
    "                print(f\"Index is {i}, Letter is {letter}\")\n",
    "                print(f\"Perm is {perm}\")\n",
    "\n",
    "                out += [letter + perm]\n",
    "                print('*****************************')\n",
    "                print(f\"Out is {out}\")\n",
    "                print('*****************************')\n",
    "\n",
    "    return out"
   ]
  },
  {
   "cell_type": "code",
   "execution_count": 6,
   "metadata": {},
   "outputs": [
    {
     "name": "stdout",
     "output_type": "stream",
     "text": [
      "[depth 0] s='abc' i=0 letter='a' -> recurse on 'bc'\n",
      "  [depth 1] s='bc' i=0 letter='b' -> recurse on 'c'\n",
      "    return [c]\n",
      "  [depth 1] prepend 'b' + 'c' => 'bc'\n",
      "  [depth 1] s='bc' i=1 letter='c' -> recurse on 'b'\n",
      "    return [b]\n",
      "  [depth 1] prepend 'c' + 'b' => 'cb'\n",
      "  [depth 1] done s='bc' out=['bc', 'cb']\n",
      "[depth 0] prepend 'a' + 'bc' => 'abc'\n",
      "[depth 0] prepend 'a' + 'cb' => 'acb'\n",
      "[depth 0] s='abc' i=1 letter='b' -> recurse on 'ac'\n",
      "  [depth 1] s='ac' i=0 letter='a' -> recurse on 'c'\n",
      "    return [c]\n",
      "  [depth 1] prepend 'a' + 'c' => 'ac'\n",
      "  [depth 1] s='ac' i=1 letter='c' -> recurse on 'a'\n",
      "    return [a]\n",
      "  [depth 1] prepend 'c' + 'a' => 'ca'\n",
      "  [depth 1] done s='ac' out=['ac', 'ca']\n",
      "[depth 0] prepend 'b' + 'ac' => 'bac'\n",
      "[depth 0] prepend 'b' + 'ca' => 'bca'\n",
      "[depth 0] s='abc' i=2 letter='c' -> recurse on 'ab'\n",
      "  [depth 1] s='ab' i=0 letter='a' -> recurse on 'b'\n",
      "    return [b]\n",
      "  [depth 1] prepend 'a' + 'b' => 'ab'\n",
      "  [depth 1] s='ab' i=1 letter='b' -> recurse on 'a'\n",
      "    return [a]\n",
      "  [depth 1] prepend 'b' + 'a' => 'ba'\n",
      "  [depth 1] done s='ab' out=['ab', 'ba']\n",
      "[depth 0] prepend 'c' + 'ab' => 'cab'\n",
      "[depth 0] prepend 'c' + 'ba' => 'cba'\n",
      "[depth 0] done s='abc' out=['abc', 'acb', 'bac', 'bca', 'cab', 'cba']\n"
     ]
    },
    {
     "data": {
      "text/plain": [
       "['abc', 'acb', 'bac', 'bca', 'cab', 'cba']"
      ]
     },
     "execution_count": 6,
     "metadata": {},
     "output_type": "execute_result"
    }
   ],
   "source": [
    "def permute(s, depth=0):\n",
    "    out = []\n",
    "    if len(s) == 1:\n",
    "        print('  '*depth + f\"return [{s}]\")\n",
    "        return [s]\n",
    "    for i, letter in enumerate(s):\n",
    "        rest = s[:i] + s[i+1:]\n",
    "        print('  '*depth + f\"[depth {depth}] s='{s}' i={i} letter='{letter}' -> recurse on '{rest}'\")\n",
    "        for perm in permute(rest, depth+1):\n",
    "            combo = letter + perm\n",
    "            print('  '*depth + f\"[depth {depth}] prepend '{letter}' + '{perm}' => '{combo}'\")\n",
    "            out.append(combo)\n",
    "    print('  '*depth + f\"[depth {depth}] done s='{s}' out={out}\")\n",
    "    return out\n",
    "\n",
    "permute(\"abc\")\n"
   ]
  },
  {
   "cell_type": "code",
   "execution_count": null,
   "metadata": {},
   "outputs": [],
   "source": []
  },
  {
   "cell_type": "code",
   "execution_count": 5,
   "metadata": {},
   "outputs": [
    {
     "name": "stdout",
     "output_type": "stream",
     "text": [
      "Index is 0, Letter is a\n",
      "-----------------------------\n",
      "Index is 0, Letter is b\n",
      "-----------------------------\n",
      "S[:i]: \n",
      "S[i+1:]: c\n",
      "Index is 0, Letter is b\n",
      "Perm is c\n",
      "*****************************\n",
      "Out is ['bc']\n",
      "*****************************\n",
      "Index is 1, Letter is c\n",
      "-----------------------------\n",
      "S[:i]: b\n",
      "S[i+1:]: \n",
      "Index is 1, Letter is c\n",
      "Perm is b\n",
      "*****************************\n",
      "Out is ['bc', 'cb']\n",
      "*****************************\n",
      "S[:i]: \n",
      "S[i+1:]: bc\n",
      "Index is 0, Letter is a\n",
      "Perm is bc\n",
      "*****************************\n",
      "Out is ['abc']\n",
      "*****************************\n",
      "S[:i]: \n",
      "S[i+1:]: bc\n",
      "Index is 0, Letter is a\n",
      "Perm is cb\n",
      "*****************************\n",
      "Out is ['abc', 'acb']\n",
      "*****************************\n",
      "Index is 1, Letter is b\n",
      "-----------------------------\n",
      "Index is 0, Letter is a\n",
      "-----------------------------\n",
      "S[:i]: \n",
      "S[i+1:]: c\n",
      "Index is 0, Letter is a\n",
      "Perm is c\n",
      "*****************************\n",
      "Out is ['ac']\n",
      "*****************************\n",
      "Index is 1, Letter is c\n",
      "-----------------------------\n",
      "S[:i]: a\n",
      "S[i+1:]: \n",
      "Index is 1, Letter is c\n",
      "Perm is a\n",
      "*****************************\n",
      "Out is ['ac', 'ca']\n",
      "*****************************\n",
      "S[:i]: a\n",
      "S[i+1:]: c\n",
      "Index is 1, Letter is b\n",
      "Perm is ac\n",
      "*****************************\n",
      "Out is ['abc', 'acb', 'bac']\n",
      "*****************************\n",
      "S[:i]: a\n",
      "S[i+1:]: c\n",
      "Index is 1, Letter is b\n",
      "Perm is ca\n",
      "*****************************\n",
      "Out is ['abc', 'acb', 'bac', 'bca']\n",
      "*****************************\n",
      "Index is 2, Letter is c\n",
      "-----------------------------\n",
      "Index is 0, Letter is a\n",
      "-----------------------------\n",
      "S[:i]: \n",
      "S[i+1:]: b\n",
      "Index is 0, Letter is a\n",
      "Perm is b\n",
      "*****************************\n",
      "Out is ['ab']\n",
      "*****************************\n",
      "Index is 1, Letter is b\n",
      "-----------------------------\n",
      "S[:i]: a\n",
      "S[i+1:]: \n",
      "Index is 1, Letter is b\n",
      "Perm is a\n",
      "*****************************\n",
      "Out is ['ab', 'ba']\n",
      "*****************************\n",
      "S[:i]: ab\n",
      "S[i+1:]: \n",
      "Index is 2, Letter is c\n",
      "Perm is ab\n",
      "*****************************\n",
      "Out is ['abc', 'acb', 'bac', 'bca', 'cab']\n",
      "*****************************\n",
      "S[:i]: ab\n",
      "S[i+1:]: \n",
      "Index is 2, Letter is c\n",
      "Perm is ba\n",
      "*****************************\n",
      "Out is ['abc', 'acb', 'bac', 'bca', 'cab', 'cba']\n",
      "*****************************\n"
     ]
    },
    {
     "data": {
      "text/plain": [
       "['abc', 'acb', 'bac', 'bca', 'cab', 'cba']"
      ]
     },
     "execution_count": 5,
     "metadata": {},
     "output_type": "execute_result"
    }
   ],
   "source": [
    "permute('abc')"
   ]
  },
  {
   "cell_type": "markdown",
   "metadata": {},
   "source": [
    "____\n",
    "# Test Your Solution"
   ]
  },
  {
   "cell_type": "code",
   "execution_count": 25,
   "metadata": {},
   "outputs": [
    {
     "name": "stdout",
     "output_type": "stream",
     "text": [
      "All test cases passed.\n"
     ]
    }
   ],
   "source": [
    "\"\"\"\n",
    "RUN THIS CELL TO TEST YOUR SOLUTION.\n",
    "\"\"\"\n",
    "\n",
    "from nose.tools import assert_equal\n",
    "\n",
    "class TestPerm(object):\n",
    "    \n",
    "    def test(self,solution):\n",
    "        \n",
    "        assert_equal(sorted(solution('abc')),sorted(['abc', 'acb', 'bac', 'bca', 'cab', 'cba']))\n",
    "        assert_equal(sorted(solution('dog')),sorted(['dog', 'dgo', 'odg', 'ogd', 'gdo', 'god']) )\n",
    "        \n",
    "        print('All test cases passed.')\n",
    "        \n",
    "\n",
    "\n",
    "# Run Tests\n",
    "t = TestPerm()\n",
    "t.test(permute)"
   ]
  },
  {
   "cell_type": "markdown",
   "metadata": {},
   "source": [
    "## Good Luck!"
   ]
  }
 ],
 "metadata": {
  "kernelspec": {
   "display_name": "paperenv",
   "language": "python",
   "name": "simon"
  },
  "language_info": {
   "codemirror_mode": {
    "name": "ipython",
    "version": 3
   },
   "file_extension": ".py",
   "mimetype": "text/x-python",
   "name": "python",
   "nbconvert_exporter": "python",
   "pygments_lexer": "ipython3",
   "version": "3.13.5"
  }
 },
 "nbformat": 4,
 "nbformat_minor": 1
}
