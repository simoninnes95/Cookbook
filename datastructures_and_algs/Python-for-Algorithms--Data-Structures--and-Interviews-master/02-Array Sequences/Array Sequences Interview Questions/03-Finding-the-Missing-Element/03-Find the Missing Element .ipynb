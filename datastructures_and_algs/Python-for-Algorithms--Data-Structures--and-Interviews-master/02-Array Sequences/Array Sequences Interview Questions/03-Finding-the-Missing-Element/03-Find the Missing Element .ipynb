{
 "cells": [
  {
   "cell_type": "markdown",
   "metadata": {},
   "source": [
    "# Find the Missing Element\n",
    "\n",
    "## Problem\n",
    "\n",
    "Consider an array of non-negative integers. A second array is formed by shuffling the elements of the first array and deleting a random element. Given these two arrays, find which element is missing in the second array. \n",
    "\n",
    "Here is an example input, the first array is shuffled and the number 5 is removed to construct the second array.\n",
    "\n",
    "Input:\n",
    "    \n",
    "    finder([1,2,3,4,5,6,7],[3,7,2,1,4,6])\n",
    "\n",
    "Output:\n",
    "\n",
    "    5 is the missing number\n",
    "\n",
    "## Solution\n",
    "\n",
    "Fill out your solution below:"
   ]
  },
  {
   "cell_type": "code",
   "execution_count": 8,
   "metadata": {
    "collapsed": true
   },
   "outputs": [],
   "source": [
    "def finder(arr1,arr2):\n",
    "    \n",
    "    count = {}\n",
    "\n",
    "    for item in arr1:\n",
    "        if item in count:\n",
    "            count[item]+=1\n",
    "        else:\n",
    "            count[item]=1\n",
    "\n",
    "    for item in arr2:\n",
    "        if item in count:\n",
    "            count[item]-=1\n",
    "        else:\n",
    "            count[item]=1\n",
    "\n",
    "    for item in count:\n",
    "        if count[item]>0:\n",
    "            # return print(f\"The missing item is: {item}\")\n",
    "            return item"
   ]
  },
  {
   "cell_type": "code",
   "execution_count": null,
   "metadata": {},
   "outputs": [],
   "source": [
    "def finder2(arr1, arr2):\n",
    "    arr1.sort()\n",
    "    arr2.sort()\n",
    "\n",
    "    for num1, num2 in zip(arr1,arr2):\n",
    "        if num1 != num2:\n",
    "            return num1\n",
    "        \n",
    "    return arr1[-1]"
   ]
  },
  {
   "cell_type": "code",
   "execution_count": 15,
   "metadata": {},
   "outputs": [
    {
     "data": {
      "text/plain": [
       "[1, 2, 3, 4, 6, 4, 3, 2]"
      ]
     },
     "execution_count": 15,
     "metadata": {},
     "output_type": "execute_result"
    }
   ],
   "source": [
    "a = [1,2,3,4]\n",
    "b = [6,4,3,2]\n",
    "\n",
    "c = a+b\n",
    "\n",
    "zip(a,b)\n",
    "c"
   ]
  },
  {
   "cell_type": "code",
   "execution_count": 16,
   "metadata": {},
   "outputs": [],
   "source": [
    "def finder3(arr1, arr2): \n",
    "    result=0 \n",
    "    \n",
    "    # Perform an XOR between the numbers in the arrays\n",
    "    for num in arr1+arr2: \n",
    "        result^=num  # result = result^num\n",
    "        print(result)\n",
    "        \n",
    "    return result "
   ]
  },
  {
   "cell_type": "code",
   "execution_count": 17,
   "metadata": {},
   "outputs": [
    {
     "name": "stdout",
     "output_type": "stream",
     "text": [
      "1\n",
      "3\n",
      "0\n",
      "4\n",
      "1\n",
      "7\n",
      "0\n",
      "3\n",
      "4\n",
      "6\n",
      "7\n",
      "3\n",
      "5\n"
     ]
    },
    {
     "data": {
      "text/plain": [
       "5"
      ]
     },
     "execution_count": 17,
     "metadata": {},
     "output_type": "execute_result"
    }
   ],
   "source": [
    "arr1 = [1,2,3,4,5,6,7]\n",
    "arr2 = [3,7,2,1,4,6]\n",
    "finder3(arr1,arr2)"
   ]
  },
  {
   "cell_type": "code",
   "execution_count": 4,
   "metadata": {},
   "outputs": [
    {
     "name": "stdout",
     "output_type": "stream",
     "text": [
      "The missing item is: 5\n"
     ]
    }
   ],
   "source": [
    "arr1 = [5,5,7,7]\n",
    "arr2 = [5,7,7]\n",
    "\n",
    "finder(arr1,arr2)"
   ]
  },
  {
   "cell_type": "markdown",
   "metadata": {},
   "source": [
    "_____"
   ]
  },
  {
   "cell_type": "markdown",
   "metadata": {},
   "source": [
    "# Test Your Solution"
   ]
  },
  {
   "cell_type": "code",
   "execution_count": null,
   "metadata": {},
   "outputs": [
    {
     "name": "stdout",
     "output_type": "stream",
     "text": [
      "Requirement already satisfied: nose in /Users/simoninnes/.pyenv/versions/papervenv/lib/python3.13/site-packages (1.3.7)\n",
      "\n",
      "\u001b[1m[\u001b[0m\u001b[34;49mnotice\u001b[0m\u001b[1;39;49m]\u001b[0m\u001b[39;49m A new release of pip is available: \u001b[0m\u001b[31;49m25.1.1\u001b[0m\u001b[39;49m -> \u001b[0m\u001b[32;49m25.2\u001b[0m\n",
      "\u001b[1m[\u001b[0m\u001b[34;49mnotice\u001b[0m\u001b[1;39;49m]\u001b[0m\u001b[39;49m To update, run: \u001b[0m\u001b[32;49mpip install --upgrade pip\u001b[0m\n",
      "Note: you may need to restart the kernel to use updated packages.\n"
     ]
    }
   ],
   "source": [
    "%pip install nose\n"
   ]
  },
  {
   "cell_type": "code",
   "execution_count": null,
   "metadata": {},
   "outputs": [
    {
     "name": "stderr",
     "output_type": "stream",
     "text": [
      "test_cases (__main__.AnagramTest.test_cases) ... ok\n",
      "\n",
      "----------------------------------------------------------------------\n",
      "Ran 1 test in 0.003s\n",
      "\n",
      "OK\n"
     ]
    },
    {
     "name": "stdout",
     "output_type": "stream",
     "text": [
      "1\n",
      "2\n",
      "3\n",
      "ALL TEST CASES PASSED\n"
     ]
    },
    {
     "data": {
      "text/plain": [
       "<unittest.main.TestProgram at 0x105e638a0>"
      ]
     },
     "execution_count": 11,
     "metadata": {},
     "output_type": "execute_result"
    }
   ],
   "source": [
    "# \"\"\"\n",
    "# RUN THIS CELL TO TEST YOUR SOLUTION\n",
    "# \"\"\"\n",
    "# from nose.tools import assert_equal\n",
    "\n",
    "# class TestFinder(object):\n",
    "    \n",
    "#     def test(self,sol):\n",
    "#         assert_equal(sol([5,5,7,7],[5,7,7]),5)\n",
    "#         assert_equal(sol([1,2,3,4,5,6,7],[3,7,2,1,4,6]),5)\n",
    "#         assert_equal(sol([9,8,7,6,5,4,3,2,1],[9,8,7,5,4,3,2,1]),6)\n",
    "#         print('ALL TEST CASES PASSED')\n",
    "\n",
    "# # Run test\n",
    "# t = TestFinder()\n",
    "# t.test(finder)\n",
    "\n",
    "\"\"\"\n",
    "RUN THIS CELL TO TEST YOUR SOLUTION\n",
    "\"\"\"\n",
    "import unittest\n",
    "class AnagramTest(unittest.TestCase):\n",
    "    def setUp(self):\n",
    "        self.func = finder  # Set the function to test here\n",
    "    def test_cases(self):\n",
    "        self.assertEqual(self.func([5,5,7,7],[5,7,7]),5)\n",
    "        self.assertEqual(self.func([1,2,3,4,5,6,7],[3,7,2,1,4,6]),5)\n",
    "        self.assertEqual(self.func([9,8,7,6,5,4,3,2,1],[9,8,7,5,4,3,2,1]),6)\n",
    "        print(\"ALL TEST CASES PASSED\")\n",
    "\n",
    "# Run Tests\n",
    "unittest.main(argv=[''], verbosity=2, exit=False)"
   ]
  },
  {
   "cell_type": "markdown",
   "metadata": {},
   "source": [
    "## Good Job!"
   ]
  }
 ],
 "metadata": {
  "kernelspec": {
   "display_name": "paperenv",
   "language": "python",
   "name": "simon"
  },
  "language_info": {
   "codemirror_mode": {
    "name": "ipython",
    "version": 3
   },
   "file_extension": ".py",
   "mimetype": "text/x-python",
   "name": "python",
   "nbconvert_exporter": "python",
   "pygments_lexer": "ipython3",
   "version": "3.13.5"
  }
 },
 "nbformat": 4,
 "nbformat_minor": 1
}
