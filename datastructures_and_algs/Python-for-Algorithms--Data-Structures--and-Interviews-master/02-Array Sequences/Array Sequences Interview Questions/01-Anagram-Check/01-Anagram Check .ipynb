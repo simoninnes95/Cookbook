{
 "cells": [
  {
   "cell_type": "markdown",
   "metadata": {},
   "source": [
    "# Anagram Check\n",
    "\n",
    "## Problem\n",
    "\n",
    "Given two strings, check to see if they are anagrams. An anagram is when the two strings can be written using the exact same letters (so you can just rearrange the letters to get a different phrase or word). \n",
    "\n",
    "For example:\n",
    "\n",
    "    \"public relations\" is an anagram of \"crap built on lies.\"\n",
    "    \n",
    "    \"clint eastwood\" is an anagram of \"old west action\"\n",
    "    \n",
    "**Note: Ignore spaces and capitalization. So \"d go\" is an anagram of \"God\" and \"dog\" and \"o d g\".**\n",
    "\n",
    "## Solution\n",
    "\n",
    "Fill out your solution below:"
   ]
  },
  {
   "cell_type": "code",
   "execution_count": 10,
   "metadata": {},
   "outputs": [],
   "source": [
    "def anagram(s1,s2):\n",
    "    count1 = 0\n",
    "    count2 = 0\n",
    "\n",
    "    s1.replace(\" \", \"\")\n",
    "    s2.replace(\" \", \"\")\n",
    "\n",
    "    for item in s1:\n",
    "        if item != \" \":\n",
    "            count1 += 1\n",
    "    \n",
    "    for item in s2:\n",
    "        if item != \" \":\n",
    "            count2 += 1\n",
    "\n",
    "    if count1 != count2:\n",
    "        return False\n",
    "\n",
    "    for i in s1:\n",
    "        for j in s2:\n",
    "            if i == j: \n",
    "                s1 = s1.replace(i, \"\")\n",
    "                s2 = s2.replace(j, \"\")\n",
    "\n",
    "                print(s1)\n",
    "                print(s2)\n",
    "\n",
    "    if len(s1) and len(s2) == 0:\n",
    "        return True"
   ]
  },
  {
   "cell_type": "code",
   "execution_count": 15,
   "metadata": {},
   "outputs": [
    {
     "name": "stdout",
     "output_type": "stream",
     "text": [
      "c\n",
      "c\n",
      "c\n",
      "o\n",
      "c\n",
      "u\n",
      "l\n",
      "c\n",
      "l\n",
      "o\n",
      "l\n",
      "u\n",
      "i\n",
      "c\n",
      "i\n",
      "o\n",
      "i\n",
      "u\n",
      "n\n",
      "c\n",
      "n\n",
      "o\n",
      "n\n",
      "u\n",
      "t\n",
      "c\n",
      "t\n",
      "o\n",
      "t\n",
      "u\n",
      " \n",
      "c\n",
      " \n",
      "o\n",
      " \n",
      "u\n",
      "e\n",
      "c\n",
      "e\n",
      "o\n",
      "e\n",
      "u\n",
      "a\n",
      "c\n",
      "a\n",
      "o\n",
      "a\n",
      "u\n",
      "s\n",
      "c\n",
      "s\n",
      "o\n",
      "s\n",
      "u\n",
      "t\n",
      "c\n",
      "t\n",
      "o\n",
      "t\n",
      "u\n",
      "w\n",
      "c\n",
      "w\n",
      "o\n",
      "w\n",
      "u\n",
      "o\n",
      "c\n",
      "o\n",
      "o\n",
      "o\n",
      "u\n",
      "o\n",
      "c\n",
      "o\n",
      "o\n",
      "o\n",
      "u\n",
      "d\n",
      "c\n",
      "d\n",
      "o\n",
      "d\n",
      "u\n"
     ]
    }
   ],
   "source": [
    "'''\n",
    "first check that the length is the same then loop through each element in \n",
    "s1 and check if its in s2, remove that element from s1 if it is in s2 and \n",
    "if there is nothing but whitespace in the remaining s2 or s1 then you are good to go\n",
    "'''\n",
    "\n",
    "string = \"clint eastwood\"\n",
    "s2 = \"cou\"\n",
    "count = 0\n",
    "\n",
    "for item in string:\n",
    "    for j in s2:\n",
    "        print(item)\n",
    "        print(j)\n",
    "\n"
   ]
  },
  {
   "cell_type": "code",
   "execution_count": 13,
   "metadata": {},
   "outputs": [
    {
     "name": "stdout",
     "output_type": "stream",
     "text": [
      "og\n",
      "go\n",
      "g\n",
      "g\n",
      "\n",
      "\n"
     ]
    }
   ],
   "source": [
    "anagram('dog','god')"
   ]
  },
  {
   "cell_type": "code",
   "execution_count": null,
   "metadata": {},
   "outputs": [],
   "source": [
    "anagram('clint eastwood','old west action')"
   ]
  },
  {
   "cell_type": "code",
   "execution_count": null,
   "metadata": {},
   "outputs": [],
   "source": [
    "anagram('aa','bb')"
   ]
  },
  {
   "cell_type": "markdown",
   "metadata": {},
   "source": [
    "# Test Your Solution\n",
    "Run the cell below to test your solution"
   ]
  },
  {
   "cell_type": "code",
   "execution_count": null,
   "metadata": {},
   "outputs": [],
   "source": [
    "\"\"\"\n",
    "RUN THIS CELL TO TEST YOUR SOLUTION\n",
    "\"\"\"\n",
    "from nose.tools import assert_equal\n",
    "\n",
    "class AnagramTest(object):\n",
    "    \n",
    "    def test(self,sol):\n",
    "        assert_equal(sol('go go go','gggooo'),True)\n",
    "        assert_equal(sol('abc','cba'),True)\n",
    "        assert_equal(sol('hi man','hi     man'),True)\n",
    "        assert_equal(sol('aabbcc','aabbc'),False)\n",
    "        assert_equal(sol('123','1 2'),False)\n",
    "        print(\"ALL TEST CASES PASSED\")\n",
    "\n",
    "# Run Tests\n",
    "t = AnagramTest()\n",
    "t.test(anagram)"
   ]
  },
  {
   "cell_type": "code",
   "execution_count": null,
   "metadata": {},
   "outputs": [],
   "source": [
    "t.test(anagram2)"
   ]
  },
  {
   "cell_type": "markdown",
   "metadata": {},
   "source": [
    "# Good Job!"
   ]
  }
 ],
 "metadata": {
  "kernelspec": {
   "display_name": "paperenv",
   "language": "python",
   "name": "simon"
  },
  "language_info": {
   "codemirror_mode": {
    "name": "ipython",
    "version": 3
   },
   "file_extension": ".py",
   "mimetype": "text/x-python",
   "name": "python",
   "nbconvert_exporter": "python",
   "pygments_lexer": "ipython3",
   "version": "3.13.5"
  }
 },
 "nbformat": 4,
 "nbformat_minor": 1
}
